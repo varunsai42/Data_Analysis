{
 "cells": [
  {
   "cell_type": "markdown",
   "id": "09b712c4",
   "metadata": {},
   "source": [
    "# 1. Importing the Dataset and doing Data Preprocessing on the dataset"
   ]
  },
  {
   "cell_type": "code",
   "execution_count": 1,
   "id": "80fabc3e",
   "metadata": {},
   "outputs": [],
   "source": [
    "# importing required libraries\n",
    "\n",
    "import numpy as np\n",
    "import pandas as pd\n",
    "import matplotlib.pyplot as plt\n",
    "from matplotlib import style\n",
    "%matplotlib inline\n",
    "import seaborn as sns\n",
    "import datetime\n",
    "\n",
    "from scipy.stats import chi2_contingency\n",
    "from scipy.stats import chi2"
   ]
  },
  {
   "cell_type": "code",
   "execution_count": 2,
   "id": "46743f80",
   "metadata": {},
   "outputs": [],
   "source": [
    "# reading the dataset\n",
    "# Note: Our Dataset is very large so setting low_memory to false\n",
    "\n",
    "dataset = pd.read_csv('311_Service_Requests_from_2010_to_Present.csv', low_memory = False)"
   ]
  },
  {
   "cell_type": "code",
   "execution_count": 3,
   "id": "fb7df91f",
   "metadata": {},
   "outputs": [
    {
     "data": {
      "text/html": [
       "<div>\n",
       "<style scoped>\n",
       "    .dataframe tbody tr th:only-of-type {\n",
       "        vertical-align: middle;\n",
       "    }\n",
       "\n",
       "    .dataframe tbody tr th {\n",
       "        vertical-align: top;\n",
       "    }\n",
       "\n",
       "    .dataframe thead th {\n",
       "        text-align: right;\n",
       "    }\n",
       "</style>\n",
       "<table border=\"1\" class=\"dataframe\">\n",
       "  <thead>\n",
       "    <tr style=\"text-align: right;\">\n",
       "      <th></th>\n",
       "      <th>Unique Key</th>\n",
       "      <th>Created Date</th>\n",
       "      <th>Closed Date</th>\n",
       "      <th>Agency</th>\n",
       "      <th>Agency Name</th>\n",
       "      <th>Complaint Type</th>\n",
       "      <th>Descriptor</th>\n",
       "      <th>Location Type</th>\n",
       "      <th>Incident Zip</th>\n",
       "      <th>Incident Address</th>\n",
       "      <th>...</th>\n",
       "      <th>Bridge Highway Name</th>\n",
       "      <th>Bridge Highway Direction</th>\n",
       "      <th>Road Ramp</th>\n",
       "      <th>Bridge Highway Segment</th>\n",
       "      <th>Garage Lot Name</th>\n",
       "      <th>Ferry Direction</th>\n",
       "      <th>Ferry Terminal Name</th>\n",
       "      <th>Latitude</th>\n",
       "      <th>Longitude</th>\n",
       "      <th>Location</th>\n",
       "    </tr>\n",
       "  </thead>\n",
       "  <tbody>\n",
       "    <tr>\n",
       "      <th>0</th>\n",
       "      <td>32310363</td>\n",
       "      <td>12/31/2015 11:59:45 PM</td>\n",
       "      <td>01-01-16 0:55</td>\n",
       "      <td>NYPD</td>\n",
       "      <td>New York City Police Department</td>\n",
       "      <td>Noise - Street/Sidewalk</td>\n",
       "      <td>Loud Music/Party</td>\n",
       "      <td>Street/Sidewalk</td>\n",
       "      <td>10034.0</td>\n",
       "      <td>71 VERMILYEA AVENUE</td>\n",
       "      <td>...</td>\n",
       "      <td>NaN</td>\n",
       "      <td>NaN</td>\n",
       "      <td>NaN</td>\n",
       "      <td>NaN</td>\n",
       "      <td>NaN</td>\n",
       "      <td>NaN</td>\n",
       "      <td>NaN</td>\n",
       "      <td>40.865682</td>\n",
       "      <td>-73.923501</td>\n",
       "      <td>(40.86568153633767, -73.92350095571744)</td>\n",
       "    </tr>\n",
       "    <tr>\n",
       "      <th>1</th>\n",
       "      <td>32309934</td>\n",
       "      <td>12/31/2015 11:59:44 PM</td>\n",
       "      <td>01-01-16 1:26</td>\n",
       "      <td>NYPD</td>\n",
       "      <td>New York City Police Department</td>\n",
       "      <td>Blocked Driveway</td>\n",
       "      <td>No Access</td>\n",
       "      <td>Street/Sidewalk</td>\n",
       "      <td>11105.0</td>\n",
       "      <td>27-07 23 AVENUE</td>\n",
       "      <td>...</td>\n",
       "      <td>NaN</td>\n",
       "      <td>NaN</td>\n",
       "      <td>NaN</td>\n",
       "      <td>NaN</td>\n",
       "      <td>NaN</td>\n",
       "      <td>NaN</td>\n",
       "      <td>NaN</td>\n",
       "      <td>40.775945</td>\n",
       "      <td>-73.915094</td>\n",
       "      <td>(40.775945312321085, -73.91509393898605)</td>\n",
       "    </tr>\n",
       "    <tr>\n",
       "      <th>2</th>\n",
       "      <td>32309159</td>\n",
       "      <td>12/31/2015 11:59:29 PM</td>\n",
       "      <td>01-01-16 4:51</td>\n",
       "      <td>NYPD</td>\n",
       "      <td>New York City Police Department</td>\n",
       "      <td>Blocked Driveway</td>\n",
       "      <td>No Access</td>\n",
       "      <td>Street/Sidewalk</td>\n",
       "      <td>10458.0</td>\n",
       "      <td>2897 VALENTINE AVENUE</td>\n",
       "      <td>...</td>\n",
       "      <td>NaN</td>\n",
       "      <td>NaN</td>\n",
       "      <td>NaN</td>\n",
       "      <td>NaN</td>\n",
       "      <td>NaN</td>\n",
       "      <td>NaN</td>\n",
       "      <td>NaN</td>\n",
       "      <td>40.870325</td>\n",
       "      <td>-73.888525</td>\n",
       "      <td>(40.870324522111424, -73.88852464418646)</td>\n",
       "    </tr>\n",
       "    <tr>\n",
       "      <th>3</th>\n",
       "      <td>32305098</td>\n",
       "      <td>12/31/2015 11:57:46 PM</td>\n",
       "      <td>01-01-16 7:43</td>\n",
       "      <td>NYPD</td>\n",
       "      <td>New York City Police Department</td>\n",
       "      <td>Illegal Parking</td>\n",
       "      <td>Commercial Overnight Parking</td>\n",
       "      <td>Street/Sidewalk</td>\n",
       "      <td>10461.0</td>\n",
       "      <td>2940 BAISLEY AVENUE</td>\n",
       "      <td>...</td>\n",
       "      <td>NaN</td>\n",
       "      <td>NaN</td>\n",
       "      <td>NaN</td>\n",
       "      <td>NaN</td>\n",
       "      <td>NaN</td>\n",
       "      <td>NaN</td>\n",
       "      <td>NaN</td>\n",
       "      <td>40.835994</td>\n",
       "      <td>-73.828379</td>\n",
       "      <td>(40.83599404683083, -73.82837939584206)</td>\n",
       "    </tr>\n",
       "    <tr>\n",
       "      <th>4</th>\n",
       "      <td>32306529</td>\n",
       "      <td>12/31/2015 11:56:58 PM</td>\n",
       "      <td>01-01-16 3:24</td>\n",
       "      <td>NYPD</td>\n",
       "      <td>New York City Police Department</td>\n",
       "      <td>Illegal Parking</td>\n",
       "      <td>Blocked Sidewalk</td>\n",
       "      <td>Street/Sidewalk</td>\n",
       "      <td>11373.0</td>\n",
       "      <td>87-14 57 ROAD</td>\n",
       "      <td>...</td>\n",
       "      <td>NaN</td>\n",
       "      <td>NaN</td>\n",
       "      <td>NaN</td>\n",
       "      <td>NaN</td>\n",
       "      <td>NaN</td>\n",
       "      <td>NaN</td>\n",
       "      <td>NaN</td>\n",
       "      <td>40.733060</td>\n",
       "      <td>-73.874170</td>\n",
       "      <td>(40.733059618956815, -73.87416975810375)</td>\n",
       "    </tr>\n",
       "  </tbody>\n",
       "</table>\n",
       "<p>5 rows × 53 columns</p>\n",
       "</div>"
      ],
      "text/plain": [
       "   Unique Key            Created Date    Closed Date Agency  \\\n",
       "0    32310363  12/31/2015 11:59:45 PM  01-01-16 0:55   NYPD   \n",
       "1    32309934  12/31/2015 11:59:44 PM  01-01-16 1:26   NYPD   \n",
       "2    32309159  12/31/2015 11:59:29 PM  01-01-16 4:51   NYPD   \n",
       "3    32305098  12/31/2015 11:57:46 PM  01-01-16 7:43   NYPD   \n",
       "4    32306529  12/31/2015 11:56:58 PM  01-01-16 3:24   NYPD   \n",
       "\n",
       "                       Agency Name           Complaint Type  \\\n",
       "0  New York City Police Department  Noise - Street/Sidewalk   \n",
       "1  New York City Police Department         Blocked Driveway   \n",
       "2  New York City Police Department         Blocked Driveway   \n",
       "3  New York City Police Department          Illegal Parking   \n",
       "4  New York City Police Department          Illegal Parking   \n",
       "\n",
       "                     Descriptor    Location Type  Incident Zip  \\\n",
       "0              Loud Music/Party  Street/Sidewalk       10034.0   \n",
       "1                     No Access  Street/Sidewalk       11105.0   \n",
       "2                     No Access  Street/Sidewalk       10458.0   \n",
       "3  Commercial Overnight Parking  Street/Sidewalk       10461.0   \n",
       "4              Blocked Sidewalk  Street/Sidewalk       11373.0   \n",
       "\n",
       "        Incident Address  ... Bridge Highway Name Bridge Highway Direction  \\\n",
       "0    71 VERMILYEA AVENUE  ...                 NaN                      NaN   \n",
       "1        27-07 23 AVENUE  ...                 NaN                      NaN   \n",
       "2  2897 VALENTINE AVENUE  ...                 NaN                      NaN   \n",
       "3    2940 BAISLEY AVENUE  ...                 NaN                      NaN   \n",
       "4          87-14 57 ROAD  ...                 NaN                      NaN   \n",
       "\n",
       "  Road Ramp Bridge Highway Segment Garage Lot Name Ferry Direction  \\\n",
       "0       NaN                    NaN             NaN             NaN   \n",
       "1       NaN                    NaN             NaN             NaN   \n",
       "2       NaN                    NaN             NaN             NaN   \n",
       "3       NaN                    NaN             NaN             NaN   \n",
       "4       NaN                    NaN             NaN             NaN   \n",
       "\n",
       "  Ferry Terminal Name   Latitude  Longitude  \\\n",
       "0                 NaN  40.865682 -73.923501   \n",
       "1                 NaN  40.775945 -73.915094   \n",
       "2                 NaN  40.870325 -73.888525   \n",
       "3                 NaN  40.835994 -73.828379   \n",
       "4                 NaN  40.733060 -73.874170   \n",
       "\n",
       "                                   Location  \n",
       "0   (40.86568153633767, -73.92350095571744)  \n",
       "1  (40.775945312321085, -73.91509393898605)  \n",
       "2  (40.870324522111424, -73.88852464418646)  \n",
       "3   (40.83599404683083, -73.82837939584206)  \n",
       "4  (40.733059618956815, -73.87416975810375)  \n",
       "\n",
       "[5 rows x 53 columns]"
      ]
     },
     "execution_count": 3,
     "metadata": {},
     "output_type": "execute_result"
    }
   ],
   "source": [
    "# View the top 5 elements of the dataset\n",
    "\n",
    "dataset.head(5)"
   ]
  },
  {
   "cell_type": "code",
   "execution_count": 4,
   "id": "6b15dbd0",
   "metadata": {},
   "outputs": [
    {
     "data": {
      "text/plain": [
       "(300698, 53)"
      ]
     },
     "execution_count": 4,
     "metadata": {},
     "output_type": "execute_result"
    }
   ],
   "source": [
    "# shape of the dataset\n",
    "\n",
    "dataset.shape"
   ]
  },
  {
   "cell_type": "code",
   "execution_count": 5,
   "id": "9d1476df",
   "metadata": {},
   "outputs": [
    {
     "name": "stdout",
     "output_type": "stream",
     "text": [
      "<class 'pandas.core.frame.DataFrame'>\n",
      "RangeIndex: 300698 entries, 0 to 300697\n",
      "Data columns (total 53 columns):\n",
      " #   Column                          Non-Null Count   Dtype  \n",
      "---  ------                          --------------   -----  \n",
      " 0   Unique Key                      300698 non-null  int64  \n",
      " 1   Created Date                    300698 non-null  object \n",
      " 2   Closed Date                     298534 non-null  object \n",
      " 3   Agency                          300698 non-null  object \n",
      " 4   Agency Name                     300698 non-null  object \n",
      " 5   Complaint Type                  300698 non-null  object \n",
      " 6   Descriptor                      294784 non-null  object \n",
      " 7   Location Type                   300567 non-null  object \n",
      " 8   Incident Zip                    298083 non-null  float64\n",
      " 9   Incident Address                256288 non-null  object \n",
      " 10  Street Name                     256288 non-null  object \n",
      " 11  Cross Street 1                  251419 non-null  object \n",
      " 12  Cross Street 2                  250919 non-null  object \n",
      " 13  Intersection Street 1           43858 non-null   object \n",
      " 14  Intersection Street 2           43362 non-null   object \n",
      " 15  Address Type                    297883 non-null  object \n",
      " 16  City                            298084 non-null  object \n",
      " 17  Landmark                        349 non-null     object \n",
      " 18  Facility Type                   298527 non-null  object \n",
      " 19  Status                          300698 non-null  object \n",
      " 20  Due Date                        300695 non-null  object \n",
      " 21  Resolution Description          300698 non-null  object \n",
      " 22  Resolution Action Updated Date  298511 non-null  object \n",
      " 23  Community Board                 300698 non-null  object \n",
      " 24  Borough                         300698 non-null  object \n",
      " 25  X Coordinate (State Plane)      297158 non-null  float64\n",
      " 26  Y Coordinate (State Plane)      297158 non-null  float64\n",
      " 27  Park Facility Name              300698 non-null  object \n",
      " 28  Park Borough                    300698 non-null  object \n",
      " 29  School Name                     300698 non-null  object \n",
      " 30  School Number                   300698 non-null  object \n",
      " 31  School Region                   300697 non-null  object \n",
      " 32  School Code                     300697 non-null  object \n",
      " 33  School Phone Number             300698 non-null  object \n",
      " 34  School Address                  300698 non-null  object \n",
      " 35  School City                     300698 non-null  object \n",
      " 36  School State                    300698 non-null  object \n",
      " 37  School Zip                      300697 non-null  object \n",
      " 38  School Not Found                300698 non-null  object \n",
      " 39  School or Citywide Complaint    0 non-null       float64\n",
      " 40  Vehicle Type                    0 non-null       float64\n",
      " 41  Taxi Company Borough            0 non-null       float64\n",
      " 42  Taxi Pick Up Location           0 non-null       float64\n",
      " 43  Bridge Highway Name             243 non-null     object \n",
      " 44  Bridge Highway Direction        243 non-null     object \n",
      " 45  Road Ramp                       213 non-null     object \n",
      " 46  Bridge Highway Segment          213 non-null     object \n",
      " 47  Garage Lot Name                 0 non-null       float64\n",
      " 48  Ferry Direction                 1 non-null       object \n",
      " 49  Ferry Terminal Name             2 non-null       object \n",
      " 50  Latitude                        297158 non-null  float64\n",
      " 51  Longitude                       297158 non-null  float64\n",
      " 52  Location                        297158 non-null  object \n",
      "dtypes: float64(10), int64(1), object(42)\n",
      "memory usage: 121.6+ MB\n"
     ]
    }
   ],
   "source": [
    "dataset.info()"
   ]
  },
  {
   "cell_type": "markdown",
   "id": "d3adfc7b",
   "metadata": {},
   "source": [
    "#### There are a lot of columns in our dataset but we don't need all of them. So, we will drop the columns that have a very large number of null values in it. Also we don't need the unnecessary columns, so I will drop them."
   ]
  },
  {
   "cell_type": "code",
   "execution_count": 6,
   "id": "e7e61217",
   "metadata": {},
   "outputs": [
    {
     "data": {
      "text/plain": [
       "Index(['Unique Key', 'Created Date', 'Closed Date', 'Agency', 'Agency Name',\n",
       "       'Complaint Type', 'Descriptor', 'Location Type', 'Incident Zip',\n",
       "       'Incident Address', 'Street Name', 'Cross Street 1', 'Cross Street 2',\n",
       "       'Intersection Street 1', 'Intersection Street 2', 'Address Type',\n",
       "       'City', 'Landmark', 'Facility Type', 'Status', 'Due Date',\n",
       "       'Resolution Description', 'Resolution Action Updated Date',\n",
       "       'Community Board', 'Borough', 'X Coordinate (State Plane)',\n",
       "       'Y Coordinate (State Plane)', 'Park Facility Name', 'Park Borough',\n",
       "       'School Name', 'School Number', 'School Region', 'School Code',\n",
       "       'School Phone Number', 'School Address', 'School City', 'School State',\n",
       "       'School Zip', 'School Not Found', 'School or Citywide Complaint',\n",
       "       'Vehicle Type', 'Taxi Company Borough', 'Taxi Pick Up Location',\n",
       "       'Bridge Highway Name', 'Bridge Highway Direction', 'Road Ramp',\n",
       "       'Bridge Highway Segment', 'Garage Lot Name', 'Ferry Direction',\n",
       "       'Ferry Terminal Name', 'Latitude', 'Longitude', 'Location'],\n",
       "      dtype='object')"
      ]
     },
     "execution_count": 6,
     "metadata": {},
     "output_type": "execute_result"
    }
   ],
   "source": [
    "# viewing the columns\n",
    "\n",
    "dataset.columns"
   ]
  },
  {
   "cell_type": "markdown",
   "id": "9f86df64",
   "metadata": {},
   "source": [
    "- Columns with most of its values as null are dropped\n",
    "- Agency and Agency Name are more or less same, so I am dropping Agency Name\n",
    "- Dropping other unnecessary columns like Location, Incident Adrress, Street Name, X Coordinate (State Plane), Y Coordinate (State Plane)  as we are already considering LATITUDE and LONGITUDE\n",
    "- Dropping other unnecessary columns"
   ]
  },
  {
   "cell_type": "code",
   "execution_count": 7,
   "id": "035e2b16",
   "metadata": {},
   "outputs": [],
   "source": [
    "# dropping the irrelevant columns\n",
    "\n",
    "drop_columns = ['Agency Name','Incident Address','Street Name','Cross Street 1','Cross Street 2','Intersection Street 1',\n",
    "'Intersection Street 2','Address Type','Park Facility Name','Park Borough','School Name',\n",
    "'School Number','School Region','School Code','School Phone Number','School Address','School City',\n",
    "'School State','School Zip','School Not Found','School or Citywide Complaint','Vehicle Type',\n",
    "'Taxi Company Borough','Taxi Pick Up Location','Bridge Highway Name','Bridge Highway Direction',\n",
    "'Road Ramp','Bridge Highway Segment','Garage Lot Name','Ferry Direction','Ferry Terminal Name','Landmark',\n",
    "'X Coordinate (State Plane)','Y Coordinate (State Plane)','Due Date','Resolution Action Updated Date','Community Board','Facility Type',\n",
    "'Location']\n",
    "\n",
    "dataset = dataset.drop(drop_columns, axis=1)"
   ]
  },
  {
   "cell_type": "code",
   "execution_count": 8,
   "id": "c9596e82",
   "metadata": {},
   "outputs": [
    {
     "data": {
      "text/plain": [
       "(300698, 14)"
      ]
     },
     "execution_count": 8,
     "metadata": {},
     "output_type": "execute_result"
    }
   ],
   "source": [
    "# checking the shape of our dataset\n",
    "\n",
    "dataset.shape"
   ]
  },
  {
   "cell_type": "markdown",
   "id": "9bd44327",
   "metadata": {},
   "source": [
    "#### So we are upto 14 columns from 53...That's a lot of reduction !"
   ]
  },
  {
   "cell_type": "markdown",
   "id": "1dd27d7f",
   "metadata": {},
   "source": [
    "- ### Now check for null values, data type of the columns etc."
   ]
  },
  {
   "cell_type": "code",
   "execution_count": 9,
   "id": "da6fb261",
   "metadata": {},
   "outputs": [
    {
     "name": "stdout",
     "output_type": "stream",
     "text": [
      "<class 'pandas.core.frame.DataFrame'>\n",
      "RangeIndex: 300698 entries, 0 to 300697\n",
      "Data columns (total 14 columns):\n",
      " #   Column                  Non-Null Count   Dtype  \n",
      "---  ------                  --------------   -----  \n",
      " 0   Unique Key              300698 non-null  int64  \n",
      " 1   Created Date            300698 non-null  object \n",
      " 2   Closed Date             298534 non-null  object \n",
      " 3   Agency                  300698 non-null  object \n",
      " 4   Complaint Type          300698 non-null  object \n",
      " 5   Descriptor              294784 non-null  object \n",
      " 6   Location Type           300567 non-null  object \n",
      " 7   Incident Zip            298083 non-null  float64\n",
      " 8   City                    298084 non-null  object \n",
      " 9   Status                  300698 non-null  object \n",
      " 10  Resolution Description  300698 non-null  object \n",
      " 11  Borough                 300698 non-null  object \n",
      " 12  Latitude                297158 non-null  float64\n",
      " 13  Longitude               297158 non-null  float64\n",
      "dtypes: float64(3), int64(1), object(10)\n",
      "memory usage: 32.1+ MB\n"
     ]
    }
   ],
   "source": [
    "# checking the info of the dataset\n",
    "\n",
    "dataset.info()"
   ]
  },
  {
   "cell_type": "code",
   "execution_count": 10,
   "id": "21ca0e21",
   "metadata": {},
   "outputs": [
    {
     "data": {
      "text/plain": [
       "Unique Key                   0\n",
       "Created Date                 0\n",
       "Closed Date               2164\n",
       "Agency                       0\n",
       "Complaint Type               0\n",
       "Descriptor                5914\n",
       "Location Type              131\n",
       "Incident Zip              2615\n",
       "City                      2614\n",
       "Status                       0\n",
       "Resolution Description       0\n",
       "Borough                      0\n",
       "Latitude                  3540\n",
       "Longitude                 3540\n",
       "dtype: int64"
      ]
     },
     "execution_count": 10,
     "metadata": {},
     "output_type": "execute_result"
    }
   ],
   "source": [
    "# checking the number of null values in the columns\n",
    "\n",
    "dataset.isnull().sum()"
   ]
  },
  {
   "cell_type": "code",
   "execution_count": 12,
   "id": "4624ce26",
   "metadata": {},
   "outputs": [],
   "source": [
    "# choosing the closed cases only to eliminate the null values\n",
    "\n",
    "dataset = dataset[dataset['Status'] == 'Closed']"
   ]
  },
  {
   "cell_type": "code",
   "execution_count": 13,
   "id": "69e5afd5",
   "metadata": {},
   "outputs": [
    {
     "data": {
      "text/plain": [
       "Unique Key                   0\n",
       "Created Date                 0\n",
       "Closed Date                  0\n",
       "Agency                       0\n",
       "Complaint Type               0\n",
       "Descriptor                5903\n",
       "Location Type               65\n",
       "Incident Zip               507\n",
       "City                       506\n",
       "Status                       0\n",
       "Resolution Description       0\n",
       "Borough                      0\n",
       "Latitude                  1432\n",
       "Longitude                 1432\n",
       "dtype: int64"
      ]
     },
     "execution_count": 13,
     "metadata": {},
     "output_type": "execute_result"
    }
   ],
   "source": [
    "dataset.isnull().sum()"
   ]
  },
  {
   "cell_type": "code",
   "execution_count": 14,
   "id": "96abeb9b",
   "metadata": {},
   "outputs": [],
   "source": [
    "# since all the cases are of closed cases we can now drop the column Status as every value of its data are same\n",
    "\n",
    "dataset = dataset.drop(['Status'], axis = 1)"
   ]
  },
  {
   "cell_type": "code",
   "execution_count": 15,
   "id": "6535fa5b",
   "metadata": {},
   "outputs": [
    {
     "data": {
      "text/plain": [
       "(298471, 13)"
      ]
     },
     "execution_count": 15,
     "metadata": {},
     "output_type": "execute_result"
    }
   ],
   "source": [
    "dataset.shape"
   ]
  },
  {
   "cell_type": "code",
   "execution_count": 16,
   "id": "436d4244",
   "metadata": {},
   "outputs": [
    {
     "name": "stdout",
     "output_type": "stream",
     "text": [
      "<class 'pandas.core.frame.DataFrame'>\n",
      "Int64Index: 291204 entries, 0 to 300697\n",
      "Data columns (total 13 columns):\n",
      " #   Column                  Non-Null Count   Dtype  \n",
      "---  ------                  --------------   -----  \n",
      " 0   Unique Key              291204 non-null  int64  \n",
      " 1   Created Date            291204 non-null  object \n",
      " 2   Closed Date             291204 non-null  object \n",
      " 3   Agency                  291204 non-null  object \n",
      " 4   Complaint Type          291204 non-null  object \n",
      " 5   Descriptor              291204 non-null  object \n",
      " 6   Location Type           291149 non-null  object \n",
      " 7   Incident Zip            291164 non-null  float64\n",
      " 8   City                    291164 non-null  object \n",
      " 9   Resolution Description  291204 non-null  object \n",
      " 10  Borough                 291204 non-null  object \n",
      " 11  Latitude                291204 non-null  float64\n",
      " 12  Longitude               291204 non-null  float64\n",
      "dtypes: float64(3), int64(1), object(9)\n",
      "memory usage: 31.1+ MB\n"
     ]
    }
   ],
   "source": [
    "# out of the remaining columns only Descriptor, Latitude and Longitude has over 1k null values\n",
    "\n",
    "dataset = dataset[(dataset['Descriptor'].notnull()) & (dataset['Latitude'].notnull()) &(dataset['Longitude'].notnull())]\n",
    "\n",
    "dataset.info()"
   ]
  },
  {
   "cell_type": "code",
   "execution_count": 17,
   "id": "1b959bcb",
   "metadata": {},
   "outputs": [
    {
     "data": {
      "text/plain": [
       "Unique Key                 0\n",
       "Created Date               0\n",
       "Closed Date                0\n",
       "Agency                     0\n",
       "Complaint Type             0\n",
       "Descriptor                 0\n",
       "Location Type             55\n",
       "Incident Zip              40\n",
       "City                      40\n",
       "Resolution Description     0\n",
       "Borough                    0\n",
       "Latitude                   0\n",
       "Longitude                  0\n",
       "dtype: int64"
      ]
     },
     "execution_count": 17,
     "metadata": {},
     "output_type": "execute_result"
    }
   ],
   "source": [
    "# rechecking remaining null values\n",
    "\n",
    "dataset.isnull().sum()"
   ]
  },
  {
   "cell_type": "code",
   "execution_count": 18,
   "id": "8cef046d",
   "metadata": {},
   "outputs": [
    {
     "data": {
      "text/plain": [
       "Unique Key                0\n",
       "Created Date              0\n",
       "Closed Date               0\n",
       "Agency                    0\n",
       "Complaint Type            0\n",
       "Descriptor                0\n",
       "Location Type             0\n",
       "Incident Zip              0\n",
       "City                      0\n",
       "Resolution Description    0\n",
       "Borough                   0\n",
       "Latitude                  0\n",
       "Longitude                 0\n",
       "dtype: int64"
      ]
     },
     "execution_count": 18,
     "metadata": {},
     "output_type": "execute_result"
    }
   ],
   "source": [
    "# still there are few null values in our dataset. we will remove them\n",
    "\n",
    "dataset = dataset[(dataset['Location Type'].notnull()) & (dataset['Incident Zip'].notnull()) &(dataset['City'].notnull())]\n",
    "\n",
    "# rechecking for null values\n",
    "dataset.isnull().sum()"
   ]
  },
  {
   "cell_type": "markdown",
   "id": "53e2a885",
   "metadata": {},
   "source": [
    "-- So all Null values are removed from our dataset"
   ]
  },
  {
   "cell_type": "code",
   "execution_count": 19,
   "id": "61416d26",
   "metadata": {},
   "outputs": [
    {
     "data": {
      "text/plain": [
       "(291107, 13)"
      ]
     },
     "execution_count": 19,
     "metadata": {},
     "output_type": "execute_result"
    }
   ],
   "source": [
    "# checking the shape our datset\n",
    "\n",
    "dataset.shape"
   ]
  },
  {
   "cell_type": "markdown",
   "id": "88255558",
   "metadata": {},
   "source": [
    "## 2. Read or convert the columns ‘Created Date’ and Closed Date’ to datetime datatype and create a new column ‘Request_Closing_Time’ as the time elapsed between request creation and request closing. (Hint: Explore the package/module datetime)"
   ]
  },
  {
   "cell_type": "code",
   "execution_count": 20,
   "id": "7ade2bd4",
   "metadata": {},
   "outputs": [
    {
     "name": "stdout",
     "output_type": "stream",
     "text": [
      "<class 'pandas.core.frame.DataFrame'>\n",
      "Int64Index: 291107 entries, 0 to 300697\n",
      "Data columns (total 14 columns):\n",
      " #   Column                  Non-Null Count   Dtype          \n",
      "---  ------                  --------------   -----          \n",
      " 0   Unique Key              291107 non-null  int64          \n",
      " 1   Created Date            291107 non-null  datetime64[ns] \n",
      " 2   Closed Date             291107 non-null  datetime64[ns] \n",
      " 3   Agency                  291107 non-null  object         \n",
      " 4   Complaint Type          291107 non-null  object         \n",
      " 5   Descriptor              291107 non-null  object         \n",
      " 6   Location Type           291107 non-null  object         \n",
      " 7   Incident Zip            291107 non-null  float64        \n",
      " 8   City                    291107 non-null  object         \n",
      " 9   Resolution Description  291107 non-null  object         \n",
      " 10  Borough                 291107 non-null  object         \n",
      " 11  Latitude                291107 non-null  float64        \n",
      " 12  Longitude               291107 non-null  float64        \n",
      " 13  Request_Closing_Time    291107 non-null  timedelta64[ns]\n",
      "dtypes: datetime64[ns](2), float64(3), int64(1), object(7), timedelta64[ns](1)\n",
      "memory usage: 33.3+ MB\n"
     ]
    }
   ],
   "source": [
    "# converting 'Created Date' and 'Closed Date' to datetime datatype\n",
    "\n",
    "cols = ['Created Date', 'Closed Date']\n",
    "for col in cols:\n",
    "    dataset[col] = pd.to_datetime(dataset[col],infer_datetime_format=True)\n",
    "    \n",
    "# creating a new column Request_Closing_Time\n",
    "dataset['Request_Closing_Time'] = dataset[cols[1]] - dataset[cols[0]]\n",
    "\n",
    "# viewing the info to see the data types\n",
    "dataset.info()"
   ]
  },
  {
   "cell_type": "markdown",
   "id": "c3894417",
   "metadata": {},
   "source": [
    "## 3. Provide major insights/patterns that you can offer in a visual format (graphs or tables); at least 4 major conclusions that you can come up with after generic data mining."
   ]
  },
  {
   "cell_type": "code",
   "execution_count": 21,
   "id": "8f7f39bf",
   "metadata": {},
   "outputs": [
    {
     "data": {
      "text/html": [
       "<div>\n",
       "<style scoped>\n",
       "    .dataframe tbody tr th:only-of-type {\n",
       "        vertical-align: middle;\n",
       "    }\n",
       "\n",
       "    .dataframe tbody tr th {\n",
       "        vertical-align: top;\n",
       "    }\n",
       "\n",
       "    .dataframe thead th {\n",
       "        text-align: right;\n",
       "    }\n",
       "</style>\n",
       "<table border=\"1\" class=\"dataframe\">\n",
       "  <thead>\n",
       "    <tr style=\"text-align: right;\">\n",
       "      <th></th>\n",
       "      <th>Unique Key</th>\n",
       "      <th>Incident Zip</th>\n",
       "      <th>Latitude</th>\n",
       "      <th>Longitude</th>\n",
       "      <th>Request_Closing_Time</th>\n",
       "    </tr>\n",
       "  </thead>\n",
       "  <tbody>\n",
       "    <tr>\n",
       "      <th>count</th>\n",
       "      <td>2.911070e+05</td>\n",
       "      <td>291107.000000</td>\n",
       "      <td>291107.000000</td>\n",
       "      <td>291107.000000</td>\n",
       "      <td>291107</td>\n",
       "    </tr>\n",
       "    <tr>\n",
       "      <th>mean</th>\n",
       "      <td>3.130158e+07</td>\n",
       "      <td>10857.977349</td>\n",
       "      <td>40.725681</td>\n",
       "      <td>-73.925035</td>\n",
       "      <td>0 days 04:18:32.132665995</td>\n",
       "    </tr>\n",
       "    <tr>\n",
       "      <th>std</th>\n",
       "      <td>5.753777e+05</td>\n",
       "      <td>580.280774</td>\n",
       "      <td>0.082411</td>\n",
       "      <td>0.078654</td>\n",
       "      <td>0 days 06:03:45.509089128</td>\n",
       "    </tr>\n",
       "    <tr>\n",
       "      <th>min</th>\n",
       "      <td>3.027948e+07</td>\n",
       "      <td>83.000000</td>\n",
       "      <td>40.499135</td>\n",
       "      <td>-74.254937</td>\n",
       "      <td>0 days 00:01:00</td>\n",
       "    </tr>\n",
       "    <tr>\n",
       "      <th>25%</th>\n",
       "      <td>3.079934e+07</td>\n",
       "      <td>10314.000000</td>\n",
       "      <td>40.668926</td>\n",
       "      <td>-73.970957</td>\n",
       "      <td>0 days 01:16:30</td>\n",
       "    </tr>\n",
       "    <tr>\n",
       "      <th>50%</th>\n",
       "      <td>3.130675e+07</td>\n",
       "      <td>11209.000000</td>\n",
       "      <td>40.717782</td>\n",
       "      <td>-73.930774</td>\n",
       "      <td>0 days 02:42:38</td>\n",
       "    </tr>\n",
       "    <tr>\n",
       "      <th>75%</th>\n",
       "      <td>3.179091e+07</td>\n",
       "      <td>11238.000000</td>\n",
       "      <td>40.782973</td>\n",
       "      <td>-73.875788</td>\n",
       "      <td>0 days 05:20:24</td>\n",
       "    </tr>\n",
       "    <tr>\n",
       "      <th>max</th>\n",
       "      <td>3.231065e+07</td>\n",
       "      <td>11697.000000</td>\n",
       "      <td>40.912869</td>\n",
       "      <td>-73.700760</td>\n",
       "      <td>24 days 16:52:22</td>\n",
       "    </tr>\n",
       "  </tbody>\n",
       "</table>\n",
       "</div>"
      ],
      "text/plain": [
       "         Unique Key   Incident Zip       Latitude      Longitude  \\\n",
       "count  2.911070e+05  291107.000000  291107.000000  291107.000000   \n",
       "mean   3.130158e+07   10857.977349      40.725681     -73.925035   \n",
       "std    5.753777e+05     580.280774       0.082411       0.078654   \n",
       "min    3.027948e+07      83.000000      40.499135     -74.254937   \n",
       "25%    3.079934e+07   10314.000000      40.668926     -73.970957   \n",
       "50%    3.130675e+07   11209.000000      40.717782     -73.930774   \n",
       "75%    3.179091e+07   11238.000000      40.782973     -73.875788   \n",
       "max    3.231065e+07   11697.000000      40.912869     -73.700760   \n",
       "\n",
       "            Request_Closing_Time  \n",
       "count                     291107  \n",
       "mean   0 days 04:18:32.132665995  \n",
       "std    0 days 06:03:45.509089128  \n",
       "min              0 days 00:01:00  \n",
       "25%              0 days 01:16:30  \n",
       "50%              0 days 02:42:38  \n",
       "75%              0 days 05:20:24  \n",
       "max             24 days 16:52:22  "
      ]
     },
     "execution_count": 21,
     "metadata": {},
     "output_type": "execute_result"
    }
   ],
   "source": [
    "# applying describe on the dataset\n",
    "\n",
    "dataset.describe()"
   ]
  },
  {
   "cell_type": "code",
   "execution_count": 22,
   "id": "87b7df28",
   "metadata": {},
   "outputs": [
    {
     "data": {
      "text/plain": [
       "Index(['Unique Key', 'Created Date', 'Closed Date', 'Agency', 'Complaint Type',\n",
       "       'Descriptor', 'Location Type', 'Incident Zip', 'City',\n",
       "       'Resolution Description', 'Borough', 'Latitude', 'Longitude',\n",
       "       'Request_Closing_Time'],\n",
       "      dtype='object')"
      ]
     },
     "execution_count": 22,
     "metadata": {},
     "output_type": "execute_result"
    }
   ],
   "source": [
    "# viewing the columns\n",
    "\n",
    "dataset.columns"
   ]
  },
  {
   "cell_type": "markdown",
   "id": "e5f49bab",
   "metadata": {},
   "source": [
    "### We will analyse Agency, Complaint Type, Descriptor, Location Type, City, Borough "
   ]
  },
  {
   "cell_type": "code",
   "execution_count": 23,
   "id": "cb8919aa",
   "metadata": {},
   "outputs": [
    {
     "data": {
      "text/plain": [
       "NYPD    291107\n",
       "Name: Agency, dtype: int64"
      ]
     },
     "execution_count": 23,
     "metadata": {},
     "output_type": "execute_result"
    }
   ],
   "source": [
    "# All the complaints are under the same agency\n",
    "\n",
    "dataset['Agency'].value_counts()"
   ]
  },
  {
   "cell_type": "code",
   "execution_count": 24,
   "id": "23e077f7",
   "metadata": {},
   "outputs": [
    {
     "data": {
      "text/plain": [
       "Blocked Driveway            76676\n",
       "Illegal Parking             74021\n",
       "Noise - Street/Sidewalk     47747\n",
       "Noise - Commercial          35144\n",
       "Derelict Vehicle            17506\n",
       "Noise - Vehicle             16868\n",
       "Animal Abuse                 7744\n",
       "Traffic                      4466\n",
       "Noise - Park                 3927\n",
       "Vending                      3773\n",
       "Drinking                     1270\n",
       "Noise - House of Worship      920\n",
       "Posting Advertisement         647\n",
       "Disorderly Youth              285\n",
       "Graffiti                      113\n",
       "Name: Complaint Type, dtype: int64"
      ]
     },
     "execution_count": 24,
     "metadata": {},
     "output_type": "execute_result"
    }
   ],
   "source": [
    "# complaint types\n",
    "\n",
    "\n",
    "dataset['Complaint Type'].value_counts()"
   ]
  },
  {
   "cell_type": "code",
   "execution_count": 25,
   "id": "212e218f",
   "metadata": {},
   "outputs": [
    {
     "data": {
      "text/plain": [
       "<AxesSubplot:title={'center':'Complaint Types'}, ylabel='Count'>"
      ]
     },
     "execution_count": 25,
     "metadata": {},
     "output_type": "execute_result"
    },
    {
     "data": {
      "image/png": "[encoded data removed]",
      "text/plain": [
       "<Figure size 1080x504 with 1 Axes>"
      ]
     },
     "metadata": {
      "needs_background": "light"
     },
     "output_type": "display_data"
    }
   ],
   "source": [
    "# plotting the complaint types\n",
    "\n",
    "dataset['Complaint Type'].value_counts().plot(kind = 'bar', figsize=(15, 7), title='Complaint Types', ylabel='Count', grid=True)"
   ]
  },
  {
   "cell_type": "markdown",
   "id": "c5693f97",
   "metadata": {},
   "source": [
    "- so <b>Blocked Driveway</b> is the Maximum Complaint type followed by Illegal Parking, Noise-Street/Sidewalk, Noise-Commercial"
   ]
  },
  {
   "cell_type": "code",
   "execution_count": 26,
   "id": "28dfda14",
   "metadata": {},
   "outputs": [
    {
     "data": {
      "text/plain": [
       "Loud Music/Party                  60444\n",
       "No Access                         56725\n",
       "Posted Parking Sign Violation     22103\n",
       "Loud Talking                      21254\n",
       "Partial Access                    19951\n",
       "With License Plate                17506\n",
       "Blocked Hydrant                   15837\n",
       "Commercial Overnight Parking      11908\n",
       "Car/Truck Music                   11114\n",
       "Blocked Sidewalk                  10930\n",
       "Double Parked Blocking Traffic     5558\n",
       "Double Parked Blocking Vehicle     4147\n",
       "Engine Idling                      4134\n",
       "Banging/Pounding                   4090\n",
       "Neglected                          3771\n",
       "Car/Truck Horn                     3477\n",
       "Congestion/Gridlock                2736\n",
       "In Prohibited Area                 2017\n",
       "Other (complaint details)          1961\n",
       "Unlicensed                         1756\n",
       "Overnight Commercial Storage       1746\n",
       "Unauthorized Bus Layover           1333\n",
       "Truck Route Violation              1010\n",
       "In Public                           923\n",
       "Tortured                            849\n",
       "Vehicle                             587\n",
       "Chained                             534\n",
       "Detached Trailer                    459\n",
       "No Shelter                          381\n",
       "Chronic Stoplight Violation         280\n",
       "Underage - Licensed Est             270\n",
       "Chronic Speeding                    266\n",
       "In Car                              248\n",
       "Playing in Unsuitable Place         245\n",
       "Drag Racing                         174\n",
       "Loud Television                      93\n",
       "Police Report Requested              90\n",
       "After Hours - Licensed Est           77\n",
       "Building                             60\n",
       "Nuisance/Truant                      40\n",
       "Police Report Not Requested          23\n",
       "Name: Descriptor, dtype: int64"
      ]
     },
     "execution_count": 26,
     "metadata": {},
     "output_type": "execute_result"
    }
   ],
   "source": [
    "# Descriptors\n",
    "\n",
    "dataset['Descriptor'].value_counts()"
   ]
  },
  {
   "cell_type": "code",
   "execution_count": 27,
   "id": "21e8ca78",
   "metadata": {},
   "outputs": [
    {
     "data": {
      "text/plain": [
       "<AxesSubplot:title={'center':'Top 10 Descriptors'}>"
      ]
     },
     "execution_count": 27,
     "metadata": {},
     "output_type": "execute_result"
    },
    {
     "data": {
      "image/png": "[encoded data removed]",
      "text/plain": [
       "<Figure size 720x360 with 1 Axes>"
      ]
     },
     "metadata": {
      "needs_background": "light"
     },
     "output_type": "display_data"
    }
   ],
   "source": [
    "# plotting top 10 Descriptors\n",
    "\n",
    "dataset['Descriptor'].value_counts().head(10).plot(kind='barh', grid=True, figsize=(10,5), title='Top 10 Descriptors')"
   ]
  },
  {
   "cell_type": "markdown",
   "id": "4f0a1156",
   "metadata": {},
   "source": [
    "- So <b>Loud Music/Party</b> is the <u>maximum</u> descriptor for the complaints followed by No Access, Posted Parking Sign Violation and Loud Taking."
   ]
  },
  {
   "cell_type": "code",
   "execution_count": 28,
   "id": "d9df5493",
   "metadata": {},
   "outputs": [
    {
     "data": {
      "text/plain": [
       "Street/Sidewalk               242765\n",
       "Store/Commercial               19425\n",
       "Club/Bar/Restaurant            17172\n",
       "Residential Building/House      5753\n",
       "Park/Playground                 4246\n",
       "House of Worship                 920\n",
       "Residential Building             226\n",
       "Highway                          196\n",
       "Parking Lot                      116\n",
       "House and Store                   93\n",
       "Name: Location Type, dtype: int64"
      ]
     },
     "execution_count": 28,
     "metadata": {},
     "output_type": "execute_result"
    }
   ],
   "source": [
    "# Top 10 Location Type\n",
    "\n",
    "dataset['Location Type'].value_counts().head(10)"
   ]
  },
  {
   "cell_type": "code",
   "execution_count": 29,
   "id": "2665f2b4",
   "metadata": {},
   "outputs": [
    {
     "data": {
      "text/plain": [
       "<AxesSubplot:title={'center':'Top 10 Location Type'}>"
      ]
     },
     "execution_count": 29,
     "metadata": {},
     "output_type": "execute_result"
    },
    {
     "data": {
      "image/png": "[encoded data removed]",
      "text/plain": [
       "<Figure size 720x360 with 1 Axes>"
      ]
     },
     "metadata": {
      "needs_background": "light"
     },
     "output_type": "display_data"
    }
   ],
   "source": [
    "# plotting Top 10 Location Type\n",
    "\n",
    "dataset['Location Type'].value_counts().head(10).plot(kind='barh', grid=True, figsize=(10, 5), title='Top 10 Location Type')"
   ]
  },
  {
   "cell_type": "markdown",
   "id": "e313676a",
   "metadata": {},
   "source": [
    "- So we see that the Location Type of <b>Street/Sidewalk</b> is a lot more than any other members of its category"
   ]
  },
  {
   "cell_type": "code",
   "execution_count": 30,
   "id": "a0797770",
   "metadata": {},
   "outputs": [
    {
     "data": {
      "text/plain": [
       "BROOKLYN         96858\n",
       "NEW YORK         61935\n",
       "BRONX            40216\n",
       "STATEN ISLAND    12211\n",
       "JAMAICA           7155\n",
       "ASTORIA           6254\n",
       "FLUSHING          5916\n",
       "RIDGEWOOD         5124\n",
       "CORONA            4265\n",
       "WOODSIDE          3493\n",
       "Name: City, dtype: int64"
      ]
     },
     "execution_count": 30,
     "metadata": {},
     "output_type": "execute_result"
    }
   ],
   "source": [
    "# City\n",
    "\n",
    "dataset['City'].value_counts().head(10)"
   ]
  },
  {
   "cell_type": "code",
   "execution_count": 31,
   "id": "f628462c",
   "metadata": {},
   "outputs": [
    {
     "data": {
      "text/plain": [
       "Text(0.5, 0, 'Complaint Counts')"
      ]
     },
     "execution_count": 31,
     "metadata": {},
     "output_type": "execute_result"
    },
    {
     "data": {
      "image/png": "[encoded data removed]",
      "text/plain": [
       "<Figure size 720x360 with 1 Axes>"
      ]
     },
     "metadata": {
      "needs_background": "light"
     },
     "output_type": "display_data"
    }
   ],
   "source": [
    "# plotting the cities\n",
    "\n",
    "dataset['City'].value_counts().head(10).plot(kind='barh', grid=True, figsize=(10, 5), title='City Column', ylabel='Cities')\n",
    "plt.xlabel('Complaint Counts')"
   ]
  },
  {
   "cell_type": "markdown",
   "id": "2c81a3c2",
   "metadata": {},
   "source": [
    "- So most complaints are from <b>BROOKLYN</b> followed New York, Bronx, Staten Island in City wise"
   ]
  },
  {
   "cell_type": "code",
   "execution_count": 32,
   "id": "3a699452",
   "metadata": {},
   "outputs": [
    {
     "data": {
      "text/plain": [
       "Text(0.5, 0, 'Complaint Counts')"
      ]
     },
     "execution_count": 32,
     "metadata": {},
     "output_type": "execute_result"
    },
    {
     "data": {
      "image/png": "[encoded data removed]",
      "text/plain": [
       "<Figure size 720x360 with 1 Axes>"
      ]
     },
     "metadata": {
      "needs_background": "light"
     },
     "output_type": "display_data"
    }
   ],
   "source": [
    "# Borough\n",
    "\n",
    "dataset['Borough'].value_counts().head(10).plot(kind='barh', grid=True, figsize=(10, 5), title='Borough Column', ylabel='Borough')\n",
    "plt.xlabel('Complaint Counts')"
   ]
  },
  {
   "cell_type": "markdown",
   "id": "40af77f6",
   "metadata": {},
   "source": [
    "- So most complaints are from <b>BROOKLYN</b> followed Queens, Manhattan, Bronx and Staten Island in Borough wise"
   ]
  },
  {
   "cell_type": "markdown",
   "id": "6c46f803",
   "metadata": {},
   "source": [
    "### Till now we only analyse one column. Lets analyse Borough and Complaint Types"
   ]
  },
  {
   "cell_type": "markdown",
   "id": "c6c92aed",
   "metadata": {},
   "source": [
    "- Borough per Complaint Type"
   ]
  },
  {
   "cell_type": "code",
   "execution_count": 33,
   "id": "03406904",
   "metadata": {},
   "outputs": [
    {
     "data": {
      "text/plain": [
       "Index(['Blocked Driveway', 'Illegal Parking', 'Noise - Street/Sidewalk',\n",
       "       'Noise - Commercial', 'Derelict Vehicle', 'Noise - Vehicle'],\n",
       "      dtype='object')"
      ]
     },
     "execution_count": 33,
     "metadata": {},
     "output_type": "execute_result"
    }
   ],
   "source": [
    "# Top Complaints\n",
    "\n",
    "top_6_complaints = dataset['Complaint Type'].value_counts()[:6].keys()\n",
    "top_6_complaints"
   ]
  },
  {
   "cell_type": "code",
   "execution_count": 34,
   "id": "b60aed6f",
   "metadata": {},
   "outputs": [
    {
     "data": {
      "text/html": [
       "<div>\n",
       "<style scoped>\n",
       "    .dataframe tbody tr th:only-of-type {\n",
       "        vertical-align: middle;\n",
       "    }\n",
       "\n",
       "    .dataframe tbody tr th {\n",
       "        vertical-align: top;\n",
       "    }\n",
       "\n",
       "    .dataframe thead th {\n",
       "        text-align: right;\n",
       "    }\n",
       "</style>\n",
       "<table border=\"1\" class=\"dataframe\">\n",
       "  <thead>\n",
       "    <tr style=\"text-align: right;\">\n",
       "      <th>Complaint Type</th>\n",
       "      <th>Blocked Driveway</th>\n",
       "      <th>Illegal Parking</th>\n",
       "      <th>Noise - Street/Sidewalk</th>\n",
       "      <th>Noise - Commercial</th>\n",
       "      <th>Derelict Vehicle</th>\n",
       "      <th>Noise - Vehicle</th>\n",
       "    </tr>\n",
       "    <tr>\n",
       "      <th>Borough</th>\n",
       "      <th></th>\n",
       "      <th></th>\n",
       "      <th></th>\n",
       "      <th></th>\n",
       "      <th></th>\n",
       "      <th></th>\n",
       "    </tr>\n",
       "  </thead>\n",
       "  <tbody>\n",
       "    <tr>\n",
       "      <th>BRONX</th>\n",
       "      <td>12740</td>\n",
       "      <td>7829</td>\n",
       "      <td>8864</td>\n",
       "      <td>2431</td>\n",
       "      <td>1948</td>\n",
       "      <td>3385</td>\n",
       "    </tr>\n",
       "    <tr>\n",
       "      <th>BROOKLYN</th>\n",
       "      <td>28119</td>\n",
       "      <td>27386</td>\n",
       "      <td>13315</td>\n",
       "      <td>11451</td>\n",
       "      <td>5164</td>\n",
       "      <td>5145</td>\n",
       "    </tr>\n",
       "    <tr>\n",
       "      <th>MANHATTAN</th>\n",
       "      <td>2055</td>\n",
       "      <td>11981</td>\n",
       "      <td>20362</td>\n",
       "      <td>14528</td>\n",
       "      <td>530</td>\n",
       "      <td>5374</td>\n",
       "    </tr>\n",
       "    <tr>\n",
       "      <th>QUEENS</th>\n",
       "      <td>31621</td>\n",
       "      <td>21944</td>\n",
       "      <td>4391</td>\n",
       "      <td>6057</td>\n",
       "      <td>8102</td>\n",
       "      <td>2608</td>\n",
       "    </tr>\n",
       "    <tr>\n",
       "      <th>STATEN ISLAND</th>\n",
       "      <td>2141</td>\n",
       "      <td>4881</td>\n",
       "      <td>815</td>\n",
       "      <td>677</td>\n",
       "      <td>1762</td>\n",
       "      <td>356</td>\n",
       "    </tr>\n",
       "  </tbody>\n",
       "</table>\n",
       "</div>"
      ],
      "text/plain": [
       "Complaint Type  Blocked Driveway  Illegal Parking  Noise - Street/Sidewalk  \\\n",
       "Borough                                                                      \n",
       "BRONX                      12740             7829                     8864   \n",
       "BROOKLYN                   28119            27386                    13315   \n",
       "MANHATTAN                   2055            11981                    20362   \n",
       "QUEENS                     31621            21944                     4391   \n",
       "STATEN ISLAND               2141             4881                      815   \n",
       "\n",
       "Complaint Type  Noise - Commercial  Derelict Vehicle  Noise - Vehicle  \n",
       "Borough                                                                \n",
       "BRONX                         2431              1948             3385  \n",
       "BROOKLYN                     11451              5164             5145  \n",
       "MANHATTAN                    14528               530             5374  \n",
       "QUEENS                        6057              8102             2608  \n",
       "STATEN ISLAND                  677              1762              356  "
      ]
     },
     "execution_count": 34,
     "metadata": {},
     "output_type": "execute_result"
    }
   ],
   "source": [
    "# Borough per Complaints\n",
    "\n",
    "borough_complaints = dataset.groupby(['Borough', 'Complaint Type']).size().unstack()\n",
    "borough_complaints = borough_complaints[top_6_complaints]\n",
    "borough_complaints"
   ]
  },
  {
   "cell_type": "code",
   "execution_count": 34,
   "id": "7a28e88d",
   "metadata": {},
   "outputs": [
    {
     "data": {
      "image/png": "[encoded data removed]",
      "text/plain": [
       "<Figure size 864x576 with 6 Axes>"
      ]
     },
     "metadata": {
      "needs_background": "light"
     },
     "output_type": "display_data"
    }
   ],
   "source": [
    "# Plotting Borough per Complaint Type \n",
    "col_number = 2\n",
    "row_number = 3\n",
    "fig, axes = plt.subplots(row_number,col_number, figsize=(12,8))\n",
    "\n",
    "for i, (label,col) in enumerate(borough_complaints.iteritems()):\n",
    "    ax = axes[int(i/col_number), i%col_number]\n",
    "    col = col.sort_values(ascending=True)[:15]\n",
    "    col.plot(kind='barh', ax=ax, grid=True)\n",
    "    ax.set_title(label)\n",
    "    \n",
    "plt.tight_layout()"
   ]
  },
  {
   "cell_type": "markdown",
   "id": "c8dd5f41",
   "metadata": {},
   "source": [
    "<u>ANALYSIS:</u>\n",
    "    \n",
    "    - Blocked Driveway is maximum in QUEENS\n",
    "    - Illegal Parking is maximum in BROOKLYN\n",
    "    - Noise - Street/Sidewalk is maximum in MANHATTAN\n",
    "    - Noise - Commercial is maximum in MANHATTAN\n",
    "    - Derelict Vehicle is maximum in QUEENS\n",
    "    - Noise - Vehicle is maximum in QUEENS\n"
   ]
  },
  {
   "cell_type": "markdown",
   "id": "7556ebc4",
   "metadata": {},
   "source": [
    "- Similarly for Complaints per Borough"
   ]
  },
  {
   "cell_type": "code",
   "execution_count": 35,
   "id": "cb79467d",
   "metadata": {},
   "outputs": [
    {
     "data": {
      "text/html": [
       "<div>\n",
       "<style scoped>\n",
       "    .dataframe tbody tr th:only-of-type {\n",
       "        vertical-align: middle;\n",
       "    }\n",
       "\n",
       "    .dataframe tbody tr th {\n",
       "        vertical-align: top;\n",
       "    }\n",
       "\n",
       "    .dataframe thead th {\n",
       "        text-align: right;\n",
       "    }\n",
       "</style>\n",
       "<table border=\"1\" class=\"dataframe\">\n",
       "  <thead>\n",
       "    <tr style=\"text-align: right;\">\n",
       "      <th>Borough</th>\n",
       "      <th>BROOKLYN</th>\n",
       "      <th>QUEENS</th>\n",
       "      <th>MANHATTAN</th>\n",
       "      <th>BRONX</th>\n",
       "      <th>STATEN ISLAND</th>\n",
       "    </tr>\n",
       "    <tr>\n",
       "      <th>Complaint Type</th>\n",
       "      <th></th>\n",
       "      <th></th>\n",
       "      <th></th>\n",
       "      <th></th>\n",
       "      <th></th>\n",
       "    </tr>\n",
       "  </thead>\n",
       "  <tbody>\n",
       "    <tr>\n",
       "      <th>Animal Abuse</th>\n",
       "      <td>2390</td>\n",
       "      <td>1874</td>\n",
       "      <td>1511</td>\n",
       "      <td>1412</td>\n",
       "      <td>557</td>\n",
       "    </tr>\n",
       "    <tr>\n",
       "      <th>Blocked Driveway</th>\n",
       "      <td>28119</td>\n",
       "      <td>31621</td>\n",
       "      <td>2055</td>\n",
       "      <td>12740</td>\n",
       "      <td>2141</td>\n",
       "    </tr>\n",
       "    <tr>\n",
       "      <th>Derelict Vehicle</th>\n",
       "      <td>5164</td>\n",
       "      <td>8102</td>\n",
       "      <td>530</td>\n",
       "      <td>1948</td>\n",
       "      <td>1762</td>\n",
       "    </tr>\n",
       "    <tr>\n",
       "      <th>Disorderly Youth</th>\n",
       "      <td>72</td>\n",
       "      <td>59</td>\n",
       "      <td>68</td>\n",
       "      <td>63</td>\n",
       "      <td>23</td>\n",
       "    </tr>\n",
       "    <tr>\n",
       "      <th>Drinking</th>\n",
       "      <td>257</td>\n",
       "      <td>357</td>\n",
       "      <td>294</td>\n",
       "      <td>187</td>\n",
       "      <td>175</td>\n",
       "    </tr>\n",
       "    <tr>\n",
       "      <th>Graffiti</th>\n",
       "      <td>43</td>\n",
       "      <td>37</td>\n",
       "      <td>22</td>\n",
       "      <td>9</td>\n",
       "      <td>2</td>\n",
       "    </tr>\n",
       "    <tr>\n",
       "      <th>Illegal Parking</th>\n",
       "      <td>27386</td>\n",
       "      <td>21944</td>\n",
       "      <td>11981</td>\n",
       "      <td>7829</td>\n",
       "      <td>4881</td>\n",
       "    </tr>\n",
       "    <tr>\n",
       "      <th>Noise - Commercial</th>\n",
       "      <td>11451</td>\n",
       "      <td>6057</td>\n",
       "      <td>14528</td>\n",
       "      <td>2431</td>\n",
       "      <td>677</td>\n",
       "    </tr>\n",
       "    <tr>\n",
       "      <th>Noise - House of Worship</th>\n",
       "      <td>338</td>\n",
       "      <td>297</td>\n",
       "      <td>189</td>\n",
       "      <td>79</td>\n",
       "      <td>17</td>\n",
       "    </tr>\n",
       "    <tr>\n",
       "      <th>Noise - Park</th>\n",
       "      <td>1537</td>\n",
       "      <td>634</td>\n",
       "      <td>1167</td>\n",
       "      <td>522</td>\n",
       "      <td>67</td>\n",
       "    </tr>\n",
       "    <tr>\n",
       "      <th>Noise - Street/Sidewalk</th>\n",
       "      <td>13315</td>\n",
       "      <td>4391</td>\n",
       "      <td>20362</td>\n",
       "      <td>8864</td>\n",
       "      <td>815</td>\n",
       "    </tr>\n",
       "    <tr>\n",
       "      <th>Noise - Vehicle</th>\n",
       "      <td>5145</td>\n",
       "      <td>2608</td>\n",
       "      <td>5374</td>\n",
       "      <td>3385</td>\n",
       "      <td>356</td>\n",
       "    </tr>\n",
       "    <tr>\n",
       "      <th>Posting Advertisement</th>\n",
       "      <td>45</td>\n",
       "      <td>30</td>\n",
       "      <td>41</td>\n",
       "      <td>16</td>\n",
       "      <td>515</td>\n",
       "    </tr>\n",
       "    <tr>\n",
       "      <th>Traffic</th>\n",
       "      <td>1082</td>\n",
       "      <td>1302</td>\n",
       "      <td>1531</td>\n",
       "      <td>355</td>\n",
       "      <td>196</td>\n",
       "    </tr>\n",
       "    <tr>\n",
       "      <th>Vending</th>\n",
       "      <td>514</td>\n",
       "      <td>477</td>\n",
       "      <td>2380</td>\n",
       "      <td>377</td>\n",
       "      <td>25</td>\n",
       "    </tr>\n",
       "  </tbody>\n",
       "</table>\n",
       "</div>"
      ],
      "text/plain": [
       "Borough                   BROOKLYN  QUEENS  MANHATTAN  BRONX  STATEN ISLAND\n",
       "Complaint Type                                                             \n",
       "Animal Abuse                  2390    1874       1511   1412            557\n",
       "Blocked Driveway             28119   31621       2055  12740           2141\n",
       "Derelict Vehicle              5164    8102        530   1948           1762\n",
       "Disorderly Youth                72      59         68     63             23\n",
       "Drinking                       257     357        294    187            175\n",
       "Graffiti                        43      37         22      9              2\n",
       "Illegal Parking              27386   21944      11981   7829           4881\n",
       "Noise - Commercial           11451    6057      14528   2431            677\n",
       "Noise - House of Worship       338     297        189     79             17\n",
       "Noise - Park                  1537     634       1167    522             67\n",
       "Noise - Street/Sidewalk      13315    4391      20362   8864            815\n",
       "Noise - Vehicle               5145    2608       5374   3385            356\n",
       "Posting Advertisement           45      30         41     16            515\n",
       "Traffic                       1082    1302       1531    355            196\n",
       "Vending                        514     477       2380    377             25"
      ]
     },
     "execution_count": 35,
     "metadata": {},
     "output_type": "execute_result"
    }
   ],
   "source": [
    "# similarly for Complaints per Borough\n",
    "\n",
    "top_borough = dataset['Borough'].value_counts().keys()\n",
    "\n",
    "complaint_per_borough = dataset.groupby(['Complaint Type', 'Borough']).size().unstack()\n",
    "complaint_per_borough = complaint_per_borough[top_borough]\n",
    "complaint_per_borough"
   ]
  },
  {
   "cell_type": "code",
   "execution_count": 36,
   "id": "2099da8c",
   "metadata": {},
   "outputs": [
    {
     "data": {
      "image/png": "[encoded data removed]",
      "text/plain": [
       "<Figure size 864x720 with 6 Axes>"
      ]
     },
     "metadata": {
      "needs_background": "light"
     },
     "output_type": "display_data"
    }
   ],
   "source": [
    "# Plotting Complaints per Borough\n",
    "\n",
    "col_number = 2\n",
    "row_number = 3\n",
    "fig, axes = plt.subplots(row_number,col_number, figsize=(12,10))\n",
    "\n",
    "for i, (label,col) in enumerate(complaint_per_borough.iteritems()):\n",
    "    ax = axes[int(i/col_number), i%col_number]\n",
    "    col = col.sort_values(ascending=True)[:15]\n",
    "    col.plot(kind='barh', ax=ax, grid=True)\n",
    "    ax.set_title(label)\n",
    "    \n",
    "plt.tight_layout()"
   ]
  },
  {
   "cell_type": "markdown",
   "id": "cf939fc6",
   "metadata": {},
   "source": [
    "<u>ANALYSIS:</u>\n",
    "\n",
    "    - BROOKLYN, QUEENS and BRONX has most complaints of Blocked Driveway.\n",
    "    - MANHATTAN has most complaints of Noise - Street/Sidewalk.\n",
    "    - STATEN ISLAND has most complaints of Illegal Parking."
   ]
  },
  {
   "cell_type": "markdown",
   "id": "45e8c422",
   "metadata": {},
   "source": [
    "# 4. Order the complaint types based on the average ‘Request_Closing_Time’, grouping them for different locations."
   ]
  },
  {
   "cell_type": "markdown",
   "id": "d33544bc",
   "metadata": {},
   "source": [
    "- Our data in Request_Closing_Time has format of days-hour-minute-seconds. Since calculating or operating canbe a tedious process, to make our work easier we first will convert our Request_Closing_Time from days to number of hours. This will make the data calculation or operation easier.\n",
    "<br><br>\n",
    "- Since, converting 2:30 hours to timedelta64[h] will give 2 hours, hence we will add 1 and will say that this particular request was closed within 3 hours.\n",
    "- Then we will find out the mean and standard distribution of the data."
   ]
  },
  {
   "cell_type": "code",
   "execution_count": 37,
   "id": "3bec2c1e",
   "metadata": {},
   "outputs": [
    {
     "data": {
      "text/html": [
       "<div>\n",
       "<style scoped>\n",
       "    .dataframe tbody tr th:only-of-type {\n",
       "        vertical-align: middle;\n",
       "    }\n",
       "\n",
       "    .dataframe tbody tr th {\n",
       "        vertical-align: top;\n",
       "    }\n",
       "\n",
       "    .dataframe thead th {\n",
       "        text-align: right;\n",
       "    }\n",
       "</style>\n",
       "<table border=\"1\" class=\"dataframe\">\n",
       "  <thead>\n",
       "    <tr style=\"text-align: right;\">\n",
       "      <th></th>\n",
       "      <th>Request_Closing_Time</th>\n",
       "      <th>Request_Closing_Time_in_Hours</th>\n",
       "    </tr>\n",
       "  </thead>\n",
       "  <tbody>\n",
       "    <tr>\n",
       "      <th>0</th>\n",
       "      <td>0 days 00:55:15</td>\n",
       "      <td>1.0</td>\n",
       "    </tr>\n",
       "    <tr>\n",
       "      <th>1</th>\n",
       "      <td>0 days 01:26:16</td>\n",
       "      <td>2.0</td>\n",
       "    </tr>\n",
       "    <tr>\n",
       "      <th>2</th>\n",
       "      <td>0 days 04:51:31</td>\n",
       "      <td>5.0</td>\n",
       "    </tr>\n",
       "    <tr>\n",
       "      <th>3</th>\n",
       "      <td>0 days 07:45:14</td>\n",
       "      <td>8.0</td>\n",
       "    </tr>\n",
       "    <tr>\n",
       "      <th>4</th>\n",
       "      <td>0 days 03:27:02</td>\n",
       "      <td>4.0</td>\n",
       "    </tr>\n",
       "    <tr>\n",
       "      <th>5</th>\n",
       "      <td>0 days 01:53:30</td>\n",
       "      <td>2.0</td>\n",
       "    </tr>\n",
       "    <tr>\n",
       "      <th>6</th>\n",
       "      <td>0 days 01:57:28</td>\n",
       "      <td>2.0</td>\n",
       "    </tr>\n",
       "    <tr>\n",
       "      <th>7</th>\n",
       "      <td>0 days 01:47:55</td>\n",
       "      <td>2.0</td>\n",
       "    </tr>\n",
       "    <tr>\n",
       "      <th>8</th>\n",
       "      <td>0 days 08:33:02</td>\n",
       "      <td>9.0</td>\n",
       "    </tr>\n",
       "    <tr>\n",
       "      <th>9</th>\n",
       "      <td>0 days 01:23:02</td>\n",
       "      <td>2.0</td>\n",
       "    </tr>\n",
       "    <tr>\n",
       "      <th>10</th>\n",
       "      <td>0 days 07:48:02</td>\n",
       "      <td>8.0</td>\n",
       "    </tr>\n",
       "    <tr>\n",
       "      <th>11</th>\n",
       "      <td>0 days 11:07:03</td>\n",
       "      <td>12.0</td>\n",
       "    </tr>\n",
       "    <tr>\n",
       "      <th>12</th>\n",
       "      <td>0 days 02:28:57</td>\n",
       "      <td>3.0</td>\n",
       "    </tr>\n",
       "    <tr>\n",
       "      <th>13</th>\n",
       "      <td>0 days 08:30:02</td>\n",
       "      <td>9.0</td>\n",
       "    </tr>\n",
       "    <tr>\n",
       "      <th>14</th>\n",
       "      <td>0 days 10:29:23</td>\n",
       "      <td>11.0</td>\n",
       "    </tr>\n",
       "    <tr>\n",
       "      <th>15</th>\n",
       "      <td>0 days 15:32:30</td>\n",
       "      <td>16.0</td>\n",
       "    </tr>\n",
       "    <tr>\n",
       "      <th>16</th>\n",
       "      <td>0 days 04:51:58</td>\n",
       "      <td>5.0</td>\n",
       "    </tr>\n",
       "    <tr>\n",
       "      <th>17</th>\n",
       "      <td>0 days 00:51:08</td>\n",
       "      <td>1.0</td>\n",
       "    </tr>\n",
       "    <tr>\n",
       "      <th>18</th>\n",
       "      <td>0 days 02:56:01</td>\n",
       "      <td>3.0</td>\n",
       "    </tr>\n",
       "    <tr>\n",
       "      <th>19</th>\n",
       "      <td>0 days 00:47:05</td>\n",
       "      <td>1.0</td>\n",
       "    </tr>\n",
       "  </tbody>\n",
       "</table>\n",
       "</div>"
      ],
      "text/plain": [
       "   Request_Closing_Time  Request_Closing_Time_in_Hours\n",
       "0       0 days 00:55:15                            1.0\n",
       "1       0 days 01:26:16                            2.0\n",
       "2       0 days 04:51:31                            5.0\n",
       "3       0 days 07:45:14                            8.0\n",
       "4       0 days 03:27:02                            4.0\n",
       "5       0 days 01:53:30                            2.0\n",
       "6       0 days 01:57:28                            2.0\n",
       "7       0 days 01:47:55                            2.0\n",
       "8       0 days 08:33:02                            9.0\n",
       "9       0 days 01:23:02                            2.0\n",
       "10      0 days 07:48:02                            8.0\n",
       "11      0 days 11:07:03                           12.0\n",
       "12      0 days 02:28:57                            3.0\n",
       "13      0 days 08:30:02                            9.0\n",
       "14      0 days 10:29:23                           11.0\n",
       "15      0 days 15:32:30                           16.0\n",
       "16      0 days 04:51:58                            5.0\n",
       "17      0 days 00:51:08                            1.0\n",
       "18      0 days 02:56:01                            3.0\n",
       "19      0 days 00:47:05                            1.0"
      ]
     },
     "execution_count": 37,
     "metadata": {},
     "output_type": "execute_result"
    }
   ],
   "source": [
    "# Creating a column Request_Closing_Time_in_Hours for time in Hours\n",
    "# and we will say the said complaint has been closed under x hours\n",
    "\n",
    "dataset['Request_Closing_Time_in_Hours'] = dataset['Request_Closing_Time'].astype('timedelta64[h]')+1\n",
    "\n",
    "# viewing the Two columns side by side for first 20 entries\n",
    "dataset[['Request_Closing_Time', 'Request_Closing_Time_in_Hours']].head(20)"
   ]
  },
  {
   "cell_type": "code",
   "execution_count": 38,
   "id": "45799e98",
   "metadata": {},
   "outputs": [
    {
     "data": {
      "text/plain": [
       "City     Complaint Type          \n",
       "ARVERNE  Animal Abuse                2.631579\n",
       "         Blocked Driveway            3.028571\n",
       "         Derelict Vehicle            3.407407\n",
       "         Disorderly Youth            4.000000\n",
       "         Drinking                    1.000000\n",
       "         Graffiti                    2.000000\n",
       "         Illegal Parking             2.827586\n",
       "         Noise - Commercial          3.000000\n",
       "         Noise - House of Worship    2.090909\n",
       "         Noise - Park                1.500000\n",
       "Name: Request_Closing_Time_in_Hours, dtype: float64"
      ]
     },
     "execution_count": 38,
     "metadata": {},
     "output_type": "execute_result"
    }
   ],
   "source": [
    "#  Ordering the complaint types based on the average ‘Request_Closing_Time’ in Hours, grouping them for different locations.\n",
    "\n",
    "data_avg_time_in_hrs = dataset.groupby(['City', 'Complaint Type'])['Request_Closing_Time_in_Hours'].mean()\n",
    "data_avg_time_in_hrs.head(10)"
   ]
  },
  {
   "cell_type": "code",
   "execution_count": 39,
   "id": "e02b18f4",
   "metadata": {},
   "outputs": [
    {
     "data": {
      "text/html": [
       "<div>\n",
       "<style scoped>\n",
       "    .dataframe tbody tr th:only-of-type {\n",
       "        vertical-align: middle;\n",
       "    }\n",
       "\n",
       "    .dataframe tbody tr th {\n",
       "        vertical-align: top;\n",
       "    }\n",
       "\n",
       "    .dataframe thead th {\n",
       "        text-align: right;\n",
       "    }\n",
       "</style>\n",
       "<table border=\"1\" class=\"dataframe\">\n",
       "  <thead>\n",
       "    <tr style=\"text-align: right;\">\n",
       "      <th></th>\n",
       "      <th>Request_Closing_Time</th>\n",
       "      <th>Request_Closing_Time_in_Hours</th>\n",
       "      <th>Request_Closing_Time_in_Seconds</th>\n",
       "    </tr>\n",
       "  </thead>\n",
       "  <tbody>\n",
       "    <tr>\n",
       "      <th>0</th>\n",
       "      <td>0 days 00:55:15</td>\n",
       "      <td>1.0</td>\n",
       "      <td>3315.0</td>\n",
       "    </tr>\n",
       "    <tr>\n",
       "      <th>1</th>\n",
       "      <td>0 days 01:26:16</td>\n",
       "      <td>2.0</td>\n",
       "      <td>5176.0</td>\n",
       "    </tr>\n",
       "    <tr>\n",
       "      <th>2</th>\n",
       "      <td>0 days 04:51:31</td>\n",
       "      <td>5.0</td>\n",
       "      <td>17491.0</td>\n",
       "    </tr>\n",
       "    <tr>\n",
       "      <th>3</th>\n",
       "      <td>0 days 07:45:14</td>\n",
       "      <td>8.0</td>\n",
       "      <td>27914.0</td>\n",
       "    </tr>\n",
       "    <tr>\n",
       "      <th>4</th>\n",
       "      <td>0 days 03:27:02</td>\n",
       "      <td>4.0</td>\n",
       "      <td>12422.0</td>\n",
       "    </tr>\n",
       "  </tbody>\n",
       "</table>\n",
       "</div>"
      ],
      "text/plain": [
       "  Request_Closing_Time  Request_Closing_Time_in_Hours  \\\n",
       "0      0 days 00:55:15                            1.0   \n",
       "1      0 days 01:26:16                            2.0   \n",
       "2      0 days 04:51:31                            5.0   \n",
       "3      0 days 07:45:14                            8.0   \n",
       "4      0 days 03:27:02                            4.0   \n",
       "\n",
       "   Request_Closing_Time_in_Seconds  \n",
       "0                           3315.0  \n",
       "1                           5176.0  \n",
       "2                          17491.0  \n",
       "3                          27914.0  \n",
       "4                          12422.0  "
      ]
     },
     "execution_count": 39,
     "metadata": {},
     "output_type": "execute_result"
    }
   ],
   "source": [
    "# Creating a column Request_Closing_Time_in_Seconds for time in seconds\n",
    "dataset['Request_Closing_Time_in_Seconds'] = dataset['Request_Closing_Time'].astype('timedelta64[s]')\n",
    "\n",
    "# viewing the Three columns side by side\n",
    "dataset[['Request_Closing_Time', 'Request_Closing_Time_in_Hours','Request_Closing_Time_in_Seconds']].head()"
   ]
  },
  {
   "cell_type": "code",
   "execution_count": 44,
   "id": "d841b43a",
   "metadata": {},
   "outputs": [
    {
     "data": {
      "text/plain": [
       "City     Complaint Type          \n",
       "ARVERNE  Animal Abuse                 7753.052632\n",
       "         Blocked Driveway             9093.485714\n",
       "         Derelict Vehicle            10685.592593\n",
       "         Disorderly Youth            12928.500000\n",
       "         Drinking                      859.000000\n",
       "         Graffiti                     5520.000000\n",
       "         Illegal Parking              8338.913793\n",
       "         Noise - Commercial           8234.000000\n",
       "         Noise - House of Worship     5623.909091\n",
       "         Noise - Park                 4620.000000\n",
       "Name: Request_Closing_Time_in_Seconds, dtype: float64"
      ]
     },
     "execution_count": 44,
     "metadata": {},
     "output_type": "execute_result"
    }
   ],
   "source": [
    "#  Order the complaint types based on the average ‘Request_Closing_Time’ in seconds, grouping them for different locations.\n",
    "\n",
    "data_avg_in_seconds = dataset.groupby(['City', 'Complaint Type']).Request_Closing_Time_in_Seconds.mean()\n",
    "data_avg_in_seconds.head(10)"
   ]
  },
  {
   "cell_type": "markdown",
   "id": "2539cfdd",
   "metadata": {},
   "source": [
    "- <u>Other analysis works on Time"
   ]
  },
  {
   "cell_type": "code",
   "execution_count": 45,
   "id": "98e17a13",
   "metadata": {},
   "outputs": [
    {
     "data": {
      "text/plain": [
       "count                       291107\n",
       "mean     0 days 04:18:32.132665995\n",
       "std      0 days 06:03:45.509089128\n",
       "min                0 days 00:01:00\n",
       "25%                0 days 01:16:30\n",
       "50%                0 days 02:42:38\n",
       "75%                0 days 05:20:24\n",
       "max               24 days 16:52:22\n",
       "Name: Request_Closing_Time, dtype: object"
      ]
     },
     "execution_count": 45,
     "metadata": {},
     "output_type": "execute_result"
    }
   ],
   "source": [
    "# lets analyse the Request_Closing_Time\n",
    "\n",
    "dataset['Request_Closing_Time'].describe()"
   ]
  },
  {
   "cell_type": "markdown",
   "id": "a7ec573f",
   "metadata": {},
   "source": []
  },
  {
   "cell_type": "code",
   "execution_count": 46,
   "id": "57461dec",
   "metadata": {},
   "outputs": [
    {
     "name": "stdout",
     "output_type": "stream",
     "text": [
      "The mean hours is 4.82 hours and mean Secondsis 15512.13 seconds\n",
      "The standard hours is 6.06 hours and standard Seconds is 21825.51 seconds\n"
     ]
    }
   ],
   "source": [
    "# Taking the mean and Standard\n",
    "\n",
    "mean_hrs = dataset['Request_Closing_Time_in_Hours'].mean()\n",
    "std_hrs = dataset['Request_Closing_Time_in_Hours'].std()\n",
    "\n",
    "mean_seconds = dataset['Request_Closing_Time_in_Seconds'].mean()\n",
    "std_seconds = dataset['Request_Closing_Time_in_Seconds'].std()\n",
    "\n",
    "print('The mean hours is {0:.2f} hours and mean Secondsis {1:.2f} seconds'.format(mean_hrs, mean_seconds))\n",
    "print('The standard hours is {0:.2f} hours and standard Seconds is {1:.2f} seconds'.format(std_hrs, std_seconds))"
   ]
  },
  {
   "cell_type": "markdown",
   "id": "32b53afb",
   "metadata": {},
   "source": [
    "### We will now analyse Complaint Types column on the basis of <u>Months</u> by refering to <u>Created Date</u>"
   ]
  },
  {
   "cell_type": "code",
   "execution_count": 47,
   "id": "9bdfdaa7",
   "metadata": {},
   "outputs": [],
   "source": [
    "# for analysing on the basis of month we will need to separate months from Created Date column\n",
    "\n",
    "dataset['Year-Month'] = dataset['Created Date'].apply(lambda x:datetime.datetime.strftime(x, '%Y-%m'))\n"
   ]
  },
  {
   "cell_type": "code",
   "execution_count": 48,
   "id": "2f8dc8ce",
   "metadata": {},
   "outputs": [
    {
     "data": {
      "text/plain": [
       "array(['2015-12', '2015-11', '2015-10', '2015-09', '2015-08', '2015-07',\n",
       "       '2015-06', '2015-05', '2015-04', '2015-03'], dtype=object)"
      ]
     },
     "execution_count": 48,
     "metadata": {},
     "output_type": "execute_result"
    }
   ],
   "source": [
    "# viewing the months that we have in our dataset\n",
    "\n",
    "dataset['Year-Month'].unique()"
   ]
  },
  {
   "cell_type": "markdown",
   "id": "51e807f0",
   "metadata": {},
   "source": [
    "- Looks like we have incident complaints from <b>March</b> to <b>December</b>"
   ]
  },
  {
   "cell_type": "code",
   "execution_count": 49,
   "id": "36cbd8be",
   "metadata": {},
   "outputs": [
    {
     "data": {
      "image/png": "[encoded data removed]",
      "text/plain": [
       "<Figure size 864x360 with 1 Axes>"
      ]
     },
     "metadata": {
      "needs_background": "light"
     },
     "output_type": "display_data"
    }
   ],
   "source": [
    "# plotting the month column\n",
    "#dataset['Year-Month'].value_counts().plot()\n",
    "\n",
    "monthly_incidents =  dataset.groupby('Year-Month').size().plot(figsize=(12,5),\n",
    "                                                               title='Incident Counts on a monthly basis', ylabel='Counts')"
   ]
  },
  {
   "cell_type": "markdown",
   "id": "aa477f98",
   "metadata": {},
   "source": [
    "- Are <b>January</b> and <b>Ferbruary</b> does not have any Complaints? Looks like nobody wants to go out in cold weather....😉\n",
    "- We don't have any complaints from <b>January</b> and <b>Ferbruary</b> in our dataset because we might have eliminated them as <b>Null Values</b> earlier."
   ]
  },
  {
   "cell_type": "code",
   "execution_count": 50,
   "id": "151c1695",
   "metadata": {},
   "outputs": [
    {
     "data": {
      "text/plain": [
       "<matplotlib.legend.Legend at 0x1c20d589b20>"
      ]
     },
     "execution_count": 50,
     "metadata": {},
     "output_type": "execute_result"
    },
    {
     "data": {
      "image/png": "[encoded data removed]",
      "text/plain": [
       "<Figure size 1080x504 with 1 Axes>"
      ]
     },
     "metadata": {
      "needs_background": "light"
     },
     "output_type": "display_data"
    }
   ],
   "source": [
    "# plotting Borough on the basis of Year-Month\n",
    "\n",
    "dataset.groupby(['Year-Month','Borough']).size().unstack().plot(figsize=(15,7))\n",
    "plt.legend(loc='center left', bbox_to_anchor=(1.0, 0.5))"
   ]
  },
  {
   "cell_type": "markdown",
   "id": "c190fb5a",
   "metadata": {},
   "source": [
    "- <b>BROOKLYN</b> raised most cases all over and most of them were raised in <b>MAY-JUNE</b> and <b>SEPTEMBER</b>."
   ]
  },
  {
   "cell_type": "code",
   "execution_count": 51,
   "id": "f7c87e99",
   "metadata": {},
   "outputs": [
    {
     "data": {
      "text/plain": [
       "<matplotlib.legend.Legend at 0x1c20fb31640>"
      ]
     },
     "execution_count": 51,
     "metadata": {},
     "output_type": "execute_result"
    },
    {
     "data": {
      "image/png": "[encoded data removed]",
      "text/plain": [
       "<Figure size 1080x504 with 1 Axes>"
      ]
     },
     "metadata": {
      "needs_background": "light"
     },
     "output_type": "display_data"
    }
   ],
   "source": [
    "# Plotting Year-Month on the basis of Borough\n",
    "\n",
    "dataset.groupby(['Borough', 'Year-Month']).size().unstack().plot(figsize=(15,7))\n",
    "plt.legend(loc='center left', bbox_to_anchor=(1.0, 0.5))"
   ]
  },
  {
   "cell_type": "markdown",
   "id": "fdf0b947",
   "metadata": {},
   "source": [
    "- <b>DECEMBER</b> has raised least complaints."
   ]
  },
  {
   "cell_type": "code",
   "execution_count": 52,
   "id": "6dea6119",
   "metadata": {},
   "outputs": [
    {
     "data": {
      "image/png": "[encoded data removed]",
      "text/plain": [
       "<Figure size 1080x504 with 1 Axes>"
      ]
     },
     "metadata": {
      "needs_background": "light"
     },
     "output_type": "display_data"
    }
   ],
   "source": [
    "# Processing time per Borough on a monthly basis\n",
    "\n",
    "dataset.groupby(['Year-Month','Borough'])['Request_Closing_Time_in_Hours'].mean().unstack().plot(figsize=(15,7),\n",
    "                                                                        title='Processing time per Borough on a monthly basis');"
   ]
  },
  {
   "cell_type": "markdown",
   "id": "26be4840",
   "metadata": {},
   "source": [
    "- <b>BRONX</b> has the maximum Processing time every month even though it has the least complaints.\n"
   ]
  },
  {
   "cell_type": "code",
   "execution_count": null,
   "id": "8ec46dfc",
   "metadata": {},
   "outputs": [],
   "source": []
  },
  {
   "cell_type": "markdown",
   "id": "50eecbc4",
   "metadata": {},
   "source": [
    "# 5. Perform a statistical test for the following:\n",
    "### Please note: For the below statements you need to state the Null and Alternate and then provide a statistical test to accept or reject the Null Hypothesis along with the corresponding ‘p-value’.\n",
    "\n",
    "\n",
    "## a. Whether the average response time across complaint types is similar or not (overall)\n",
    "## b. Are the type of complaint or service requested and location related?"
   ]
  },
  {
   "cell_type": "code",
   "execution_count": 53,
   "id": "ecc70788",
   "metadata": {},
   "outputs": [
    {
     "data": {
      "text/plain": [
       "Index(['Unique Key', 'Created Date', 'Closed Date', 'Agency', 'Complaint Type',\n",
       "       'Descriptor', 'Location Type', 'Incident Zip', 'City',\n",
       "       'Resolution Description', 'Borough', 'Latitude', 'Longitude',\n",
       "       'Request_Closing_Time', 'Request_Closing_Time_in_Hours',\n",
       "       'Request_Closing_Time_in_Seconds', 'Year-Month'],\n",
       "      dtype='object')"
      ]
     },
     "execution_count": 53,
     "metadata": {},
     "output_type": "execute_result"
    }
   ],
   "source": [
    "# viewing the columns\n",
    "\n",
    "dataset.columns"
   ]
  },
  {
   "cell_type": "code",
   "execution_count": 54,
   "id": "6e1050b6",
   "metadata": {},
   "outputs": [
    {
     "data": {
      "text/plain": [
       "Complaint Type\n",
       "Posting Advertisement        7113.582689\n",
       "Noise - Commercial          11294.078335\n",
       "Noise - House of Worship    11519.116304\n",
       "Noise - Park                12249.610644\n",
       "Noise - Street/Sidewalk     12392.210610\n",
       "Traffic                     12426.186968\n",
       "Disorderly Youth            12847.733333\n",
       "Noise - Vehicle             12953.606711\n",
       "Drinking                    13885.939370\n",
       "Vending                     14442.301617\n",
       "Illegal Parking             16140.427217\n",
       "Blocked Driveway            17056.511751\n",
       "Animal Abuse                18786.728951\n",
       "Graffiti                    25744.504425\n",
       "Derelict Vehicle            26450.507426\n",
       "Name: Request_Closing_Time_in_Seconds, dtype: float64"
      ]
     },
     "execution_count": 54,
     "metadata": {},
     "output_type": "execute_result"
    }
   ],
   "source": [
    "# lets see the average response time in seconds for different complaint types\n",
    "\n",
    "avg_response_time = dataset.groupby(['Complaint Type']).Request_Closing_Time_in_Seconds.mean().sort_values(ascending=True)\n",
    "avg_response_time"
   ]
  },
  {
   "cell_type": "markdown",
   "id": "d4f2c69b",
   "metadata": {},
   "source": [
    "- <b>Null Hypothesis</b> -->>  Average response time across complaint types is similar(overall).\n",
    "- <b>Alternate Hypothesis</b> -->> Average response time across complaint types is not similar(overall).\n",
    "\n",
    "-- We can say that for overall case our <b>NULL HYPOTHESIS</b> is rejected as the Average Response Time in Seconds for different complaint types is different"
   ]
  },
  {
   "cell_type": "markdown",
   "id": "607a0554",
   "metadata": {},
   "source": [
    "# Testing for our Hypothesis\n",
    "\n",
    "- Below We conduct ANOVA (Analysis of Variance) test for top 5 type of complaints\n",
    "\n",
    "- For a 95% of confidence interval we choose our alpha as 0.05 for 5%\n",
    "\n",
    "- Alpha(0.05) is the critical p-value, if our calculated p-value is less than alpha, it will give us strong evidence to reject Null Hypothesis.\n",
    ">\n",
    "- <b>if p < alpha(0.05) <b>: Reject Null Hypothesis, Average response time for all the complaints type is not same.</b>\n",
    "\n",
    "- <b>if p > alpha(0.05) : Fail to reject Null Hypothesis, Average response time for all the complaints type is same.</b>"
   ]
  },
  {
   "cell_type": "code",
   "execution_count": 55,
   "id": "36fb5a82",
   "metadata": {},
   "outputs": [],
   "source": [
    "# to calculate the p-value log of time taken to close the complaint per complaint is taken\n",
    "\n",
    "data = {}\n",
    "for complaint in dataset['Complaint Type'].unique():\n",
    "    data[complaint] = np.log(dataset[dataset['Complaint Type']==complaint]['Request_Closing_Time_in_Seconds'])"
   ]
  },
  {
   "cell_type": "code",
   "execution_count": 56,
   "id": "7b374022",
   "metadata": {},
   "outputs": [
    {
     "data": {
      "text/plain": [
       "dict_keys(['Noise - Street/Sidewalk', 'Blocked Driveway', 'Illegal Parking', 'Derelict Vehicle', 'Noise - Commercial', 'Noise - House of Worship', 'Posting Advertisement', 'Noise - Vehicle', 'Animal Abuse', 'Vending', 'Traffic', 'Drinking', 'Noise - Park', 'Graffiti', 'Disorderly Youth'])"
      ]
     },
     "execution_count": 56,
     "metadata": {},
     "output_type": "execute_result"
    }
   ],
   "source": [
    "data.keys()"
   ]
  },
  {
   "cell_type": "code",
   "execution_count": 57,
   "id": "696bdafc",
   "metadata": {},
   "outputs": [
    {
     "name": "stdout",
     "output_type": "stream",
     "text": [
      "1.1029853481161118\n",
      "0.9759835331364468\n",
      "1.07759350645833\n",
      "1.2579717580716774\n",
      "1.0889851891911977\n",
      "1.1764769203426566\n",
      "1.2223658746794284\n",
      "1.0766368282265082\n",
      "1.0439938309706467\n",
      "1.1124255292109804\n",
      "1.183766057955533\n",
      "1.0462752311468753\n",
      "1.119443436237754\n",
      "1.0644915295126962\n",
      "1.0383245818152775\n"
     ]
    }
   ],
   "source": [
    "for complaint in data.keys():\n",
    "    print(data[complaint].std())"
   ]
  },
  {
   "cell_type": "code",
   "execution_count": 58,
   "id": "6e3be236",
   "metadata": {},
   "outputs": [
    {
     "name": "stdout",
     "output_type": "stream",
     "text": [
      "Statistics= 2452.471, p = 0.000\n",
      "We have Different distributions (reject H0)\n"
     ]
    }
   ],
   "source": [
    "# importing f_oneway from scipy.stats library\n",
    "\n",
    "from scipy.stats import f_oneway\n",
    "# taking top 5 complaints\n",
    "stat, p = f_oneway(data['Blocked Driveway'], data['Illegal Parking'], data['Noise - Street/Sidewalk'],\n",
    "                   data['Derelict Vehicle'], data['Noise - Commercial'])\n",
    "print('Statistics= %.3f, p = %.3f' % (stat, p))\n",
    "# interpret\n",
    "alpha = 0.05\n",
    "if p > alpha:\n",
    "    print('Same distributions (fail to reject H0)')\n",
    "else:\n",
    "    print('We have Different distributions (reject H0)')"
   ]
  },
  {
   "cell_type": "markdown",
   "id": "047e8210",
   "metadata": {},
   "source": [
    "- <b>As our p-value is quite low , hence it is being converted to 0.0</b>\n",
    "\n",
    "- Since our p-value is lower than our critical p-value, we will conclude that we have enough evidence to reject our Null Hypothesis and that is:\n",
    "\n",
    "- Average response time for all the complaints type is not same."
   ]
  },
  {
   "cell_type": "code",
   "execution_count": null,
   "id": "4c282846",
   "metadata": {},
   "outputs": [],
   "source": []
  },
  {
   "cell_type": "markdown",
   "id": "fcecd78e",
   "metadata": {},
   "source": [
    "### For relation between Complaint Type and Location\n",
    "we will use Crosstab and Chi-square Test"
   ]
  },
  {
   "cell_type": "code",
   "execution_count": 59,
   "id": "a6466d16",
   "metadata": {},
   "outputs": [],
   "source": [
    "# getting crosstab from pandas\n",
    "\n",
    "city_type = pd.crosstab(dataset['City'], dataset['Complaint Type'])"
   ]
  },
  {
   "cell_type": "code",
   "execution_count": 60,
   "id": "e0c93968",
   "metadata": {},
   "outputs": [
    {
     "data": {
      "text/html": [
       "<div>\n",
       "<style scoped>\n",
       "    .dataframe tbody tr th:only-of-type {\n",
       "        vertical-align: middle;\n",
       "    }\n",
       "\n",
       "    .dataframe tbody tr th {\n",
       "        vertical-align: top;\n",
       "    }\n",
       "\n",
       "    .dataframe thead th {\n",
       "        text-align: right;\n",
       "    }\n",
       "</style>\n",
       "<table border=\"1\" class=\"dataframe\">\n",
       "  <thead>\n",
       "    <tr style=\"text-align: right;\">\n",
       "      <th>Complaint Type</th>\n",
       "      <th>Animal Abuse</th>\n",
       "      <th>Blocked Driveway</th>\n",
       "      <th>Derelict Vehicle</th>\n",
       "      <th>Disorderly Youth</th>\n",
       "      <th>Drinking</th>\n",
       "      <th>Graffiti</th>\n",
       "      <th>Illegal Parking</th>\n",
       "      <th>Noise - Commercial</th>\n",
       "      <th>Noise - House of Worship</th>\n",
       "      <th>Noise - Park</th>\n",
       "      <th>Noise - Street/Sidewalk</th>\n",
       "      <th>Noise - Vehicle</th>\n",
       "      <th>Posting Advertisement</th>\n",
       "      <th>Traffic</th>\n",
       "      <th>Vending</th>\n",
       "    </tr>\n",
       "    <tr>\n",
       "      <th>City</th>\n",
       "      <th></th>\n",
       "      <th></th>\n",
       "      <th></th>\n",
       "      <th></th>\n",
       "      <th></th>\n",
       "      <th></th>\n",
       "      <th></th>\n",
       "      <th></th>\n",
       "      <th></th>\n",
       "      <th></th>\n",
       "      <th></th>\n",
       "      <th></th>\n",
       "      <th></th>\n",
       "      <th></th>\n",
       "      <th></th>\n",
       "    </tr>\n",
       "  </thead>\n",
       "  <tbody>\n",
       "    <tr>\n",
       "      <th>ARVERNE</th>\n",
       "      <td>38</td>\n",
       "      <td>35</td>\n",
       "      <td>27</td>\n",
       "      <td>2</td>\n",
       "      <td>1</td>\n",
       "      <td>1</td>\n",
       "      <td>58</td>\n",
       "      <td>2</td>\n",
       "      <td>11</td>\n",
       "      <td>2</td>\n",
       "      <td>29</td>\n",
       "      <td>7</td>\n",
       "      <td>0</td>\n",
       "      <td>0</td>\n",
       "      <td>1</td>\n",
       "    </tr>\n",
       "    <tr>\n",
       "      <th>ASTORIA</th>\n",
       "      <td>125</td>\n",
       "      <td>2618</td>\n",
       "      <td>351</td>\n",
       "      <td>3</td>\n",
       "      <td>35</td>\n",
       "      <td>4</td>\n",
       "      <td>1065</td>\n",
       "      <td>1282</td>\n",
       "      <td>19</td>\n",
       "      <td>61</td>\n",
       "      <td>385</td>\n",
       "      <td>204</td>\n",
       "      <td>1</td>\n",
       "      <td>47</td>\n",
       "      <td>54</td>\n",
       "    </tr>\n",
       "    <tr>\n",
       "      <th>Astoria</th>\n",
       "      <td>0</td>\n",
       "      <td>116</td>\n",
       "      <td>12</td>\n",
       "      <td>0</td>\n",
       "      <td>0</td>\n",
       "      <td>0</td>\n",
       "      <td>213</td>\n",
       "      <td>261</td>\n",
       "      <td>0</td>\n",
       "      <td>0</td>\n",
       "      <td>114</td>\n",
       "      <td>0</td>\n",
       "      <td>0</td>\n",
       "      <td>0</td>\n",
       "      <td>0</td>\n",
       "    </tr>\n",
       "    <tr>\n",
       "      <th>BAYSIDE</th>\n",
       "      <td>37</td>\n",
       "      <td>376</td>\n",
       "      <td>198</td>\n",
       "      <td>1</td>\n",
       "      <td>1</td>\n",
       "      <td>3</td>\n",
       "      <td>511</td>\n",
       "      <td>40</td>\n",
       "      <td>2</td>\n",
       "      <td>3</td>\n",
       "      <td>15</td>\n",
       "      <td>16</td>\n",
       "      <td>0</td>\n",
       "      <td>9</td>\n",
       "      <td>2</td>\n",
       "    </tr>\n",
       "    <tr>\n",
       "      <th>BELLEROSE</th>\n",
       "      <td>7</td>\n",
       "      <td>95</td>\n",
       "      <td>89</td>\n",
       "      <td>2</td>\n",
       "      <td>1</td>\n",
       "      <td>0</td>\n",
       "      <td>105</td>\n",
       "      <td>37</td>\n",
       "      <td>1</td>\n",
       "      <td>1</td>\n",
       "      <td>13</td>\n",
       "      <td>10</td>\n",
       "      <td>1</td>\n",
       "      <td>7</td>\n",
       "      <td>0</td>\n",
       "    </tr>\n",
       "  </tbody>\n",
       "</table>\n",
       "</div>"
      ],
      "text/plain": [
       "Complaint Type  Animal Abuse  Blocked Driveway  Derelict Vehicle  \\\n",
       "City                                                               \n",
       "ARVERNE                   38                35                27   \n",
       "ASTORIA                  125              2618               351   \n",
       "Astoria                    0               116                12   \n",
       "BAYSIDE                   37               376               198   \n",
       "BELLEROSE                  7                95                89   \n",
       "\n",
       "Complaint Type  Disorderly Youth  Drinking  Graffiti  Illegal Parking  \\\n",
       "City                                                                    \n",
       "ARVERNE                        2         1         1               58   \n",
       "ASTORIA                        3        35         4             1065   \n",
       "Astoria                        0         0         0              213   \n",
       "BAYSIDE                        1         1         3              511   \n",
       "BELLEROSE                      2         1         0              105   \n",
       "\n",
       "Complaint Type  Noise - Commercial  Noise - House of Worship  Noise - Park  \\\n",
       "City                                                                         \n",
       "ARVERNE                          2                        11             2   \n",
       "ASTORIA                       1282                        19            61   \n",
       "Astoria                        261                         0             0   \n",
       "BAYSIDE                         40                         2             3   \n",
       "BELLEROSE                       37                         1             1   \n",
       "\n",
       "Complaint Type  Noise - Street/Sidewalk  Noise - Vehicle  \\\n",
       "City                                                       \n",
       "ARVERNE                              29                7   \n",
       "ASTORIA                             385              204   \n",
       "Astoria                             114                0   \n",
       "BAYSIDE                              15               16   \n",
       "BELLEROSE                            13               10   \n",
       "\n",
       "Complaint Type  Posting Advertisement  Traffic  Vending  \n",
       "City                                                     \n",
       "ARVERNE                             0        0        1  \n",
       "ASTORIA                             1       47       54  \n",
       "Astoria                             0        0        0  \n",
       "BAYSIDE                             0        9        2  \n",
       "BELLEROSE                           1        7        0  "
      ]
     },
     "execution_count": 60,
     "metadata": {},
     "output_type": "execute_result"
    }
   ],
   "source": [
    "# viewing first 5 entries of city_type\n",
    "\n",
    "city_type.head()"
   ]
  },
  {
   "cell_type": "code",
   "execution_count": 61,
   "id": "cb84a928",
   "metadata": {},
   "outputs": [],
   "source": [
    "# Now we will do Chi-square Test"
   ]
  },
  {
   "cell_type": "code",
   "execution_count": 62,
   "id": "a973bab8",
   "metadata": {},
   "outputs": [],
   "source": [
    "# contigency table\n",
    "\n",
    "table = city_type \n",
    "\n",
    "# table -->> The contingency table. The table contains the observed frequencies (i.e. number of occurrences) in each category.\n",
    "# stat -->> chi2 or Test Statistic\n",
    "# p -->> The p-value of the Test\n",
    "# dof -->> Degrees of Freedom\n",
    "# expected -->> The expected frequencies, based on the marginal sums of the table.\n",
    "\n",
    "stat, p, dof, expected = chi2_contingency(table)"
   ]
  },
  {
   "cell_type": "code",
   "execution_count": 63,
   "id": "850123e0",
   "metadata": {},
   "outputs": [
    {
     "name": "stdout",
     "output_type": "stream",
     "text": [
      "The Degrees of Freedom are : 728\n",
      "The P-Value of the Testing is 0.0: \n",
      "Expected values : \n",
      "\n",
      "[[5.69280711e+00 5.63664357e+01 1.28690962e+01 2.09510592e-01\n",
      "  9.33608604e-01 8.30691120e-02 5.44146791e+01 2.58352290e+01\n",
      "  6.76314895e-01 2.88683542e+00 3.51000079e+01 1.24000866e+01\n",
      "  4.75625801e-01 3.28306774e+00 2.77362619e+00]\n",
      " [1.66368298e+02 1.64726957e+03 3.76090317e+02 6.12280021e+00\n",
      "  2.72840571e+01 2.42763657e+00 1.59023086e+03 7.55016458e+02\n",
      "  1.97648287e+01 8.43657418e+01 1.02577313e+03 3.62383838e+02\n",
      "  1.38998306e+01 9.59453534e+01 8.10572813e+01]\n",
      " [1.90469621e+01 1.88590505e+02 4.30573500e+01 7.00979365e-01\n",
      "  3.12366243e+00 2.77932169e-01 1.82060328e+02 8.64393642e+01\n",
      "  2.26281058e+00 9.65875778e+00 1.17437410e+02 4.14881401e+01\n",
      "  1.59134614e+00 1.09844696e+01 9.27998296e+00]\n",
      " [3.22947095e+01 3.19760995e+02 7.30050600e+01 1.18853205e+00\n",
      "  5.29626563e+00 4.71242533e-01 3.08688881e+02 1.46560598e+02\n",
      "  3.83666487e+00 1.63767206e+01 1.99118736e+02 7.03444163e+01\n",
      "  2.69817627e+00 1.86245058e+01 1.57344963e+01]\n",
      " [9.81610198e+00 9.71925924e+01 2.21901706e+01 3.61258919e-01\n",
      "  1.60982044e+00 1.43235992e-01 9.38271804e+01 4.45476612e+01\n",
      "  1.16616914e+00 4.97776762e+00 6.05229108e+01 2.13814577e+01\n",
      "  8.20121124e-01 5.66099063e+00 4.78256105e+00]\n",
      " [7.98057072e-01 7.90183678e+00 1.80407891e+00 2.93706438e-02\n",
      "  1.30879711e-01 1.16452026e-02 7.62822605e+00 3.62176107e+00\n",
      "  9.48104992e-02 4.04696555e-01 4.92056186e+00 1.73832989e+00\n",
      "  6.66765141e-02 4.60243141e-01 3.88826102e-01]\n",
      " [1.06982211e+03 1.05926756e+04 2.41842792e+03 3.93723270e+01\n",
      "  1.75448615e+02 1.56107823e+01 1.02258913e+04 4.85509144e+03\n",
      "  1.27096635e+02 5.42509222e+02 6.59617719e+03 2.33028917e+03\n",
      "  8.93820897e+01 6.16971272e+02 5.21234350e+02]\n",
      " [2.57660706e+03 2.55118702e+04 5.82464918e+03 9.48260605e+01\n",
      "  4.22558235e+02 3.75977012e+01 2.46284906e+04 1.16932178e+04\n",
      "  3.06105178e+02 1.30660330e+03 1.58865260e+04 5.61237189e+03\n",
      "  2.15271794e+02 1.48594100e+03 1.25536395e+03]\n",
      " [1.25294960e+01 1.24058837e+02 2.83240389e+01 4.61119107e-01\n",
      "  2.05481146e+00 1.82829681e-01 1.19763149e+02 5.68616488e+01\n",
      "  1.48852484e+00 6.35373591e+00 7.72528211e+01 2.72917793e+01\n",
      "  1.04682127e+00 7.22581731e+00 6.10456980e+00]\n",
      " [2.58038453e+00 2.55492723e+01 5.83318848e+00 9.49650816e-02\n",
      "  4.23177732e-01 3.76528218e-02 2.46645976e+01 1.17103608e+01\n",
      "  3.06553948e-01 1.30851886e+00 1.59098167e+01 5.62059999e+00\n",
      "  2.15587396e-01 1.48811949e+00 1.25720440e+00]\n",
      " [3.23479133e+01 3.20287784e+02 7.31253319e+01 1.19049009e+00\n",
      "  5.30499095e+00 4.72018880e-01 3.09197429e+02 1.46802049e+02\n",
      "  3.84298557e+00 1.64037004e+01 1.99446774e+02 7.04603050e+01\n",
      "  2.70262137e+00 1.86551886e+01 1.57604180e+01]\n",
      " [1.13457114e+02 1.12337780e+03 2.56479885e+02 4.17552652e+00\n",
      "  1.86067322e+01 1.65555964e+00 1.08447947e+03 5.14893699e+02\n",
      "  1.34788926e+01 5.75343602e+01 6.99539877e+02 2.47132566e+02\n",
      "  9.47917776e+00 6.54312332e+01 5.52781108e+01]\n",
      " [7.24635821e+01 7.17486780e+02 1.63810365e+02 2.66685446e+00\n",
      "  1.18838777e+01 1.05738440e+00 6.92642925e+02 3.28855905e+02\n",
      "  8.60879333e+00 3.67464472e+01 4.46787016e+02 1.57840354e+02\n",
      "  6.05422748e+00 4.17900772e+01 3.53054100e+01]\n",
      " [6.98033919e+01 6.91147324e+02 1.57796769e+02 2.56895231e+00\n",
      "  1.14476120e+01 1.01856706e+00 6.67215505e+02 3.16783368e+02\n",
      "  8.29275833e+00 3.53974587e+01 4.30385144e+02 1.52045921e+02\n",
      "  5.83197244e+00 4.02559334e+01 3.40093230e+01]\n",
      " [3.72426634e-01 3.68752383e+00 8.41903493e-01 1.37063004e-02\n",
      "  6.10771984e-02 5.43442789e-03 3.55983882e+00 1.69015517e+00\n",
      "  4.42448996e-02 1.88858392e-01 2.29626220e+00 8.11220616e-01\n",
      "  3.11157066e-02 2.14780132e-01 1.81452181e-01]\n",
      " [3.09380125e+01 3.06327873e+02 6.99381258e+01 1.13860196e+00\n",
      "  5.07377013e+00 4.51445688e-01 2.95720896e+02 1.40403604e+02\n",
      "  3.67548702e+00 1.56887364e+01 1.90753781e+02 6.73892555e+01\n",
      "  2.58482620e+00 1.78420924e+01 1.50734919e+01]\n",
      " [4.04348916e+00 4.00359730e+01 9.14066649e+00 1.48811262e-01\n",
      "  6.63123869e-01 5.90023600e-02 3.86496786e+01 1.83502561e+01\n",
      "  4.80373196e-01 2.05046254e+00 2.49308467e+01 8.80753812e+00\n",
      "  3.37827672e-01 2.33189858e+00 1.97005225e+00]\n",
      " [1.57376855e+02 1.55824221e+03 3.55764362e+02 5.79189095e+00\n",
      "  2.58094790e+01 2.29643396e+00 1.50428618e+03 7.14211283e+02\n",
      "  1.86966304e+01 7.98061606e+01 9.70334798e+02 3.42798655e+02\n",
      "  1.31486086e+01 9.07599474e+01 7.66765073e+01]\n",
      " [4.40261485e+01 4.35917996e+02 9.95250200e+01 1.62028052e+00\n",
      "  7.22019738e+00 6.42427011e-01 4.20823804e+02 1.99800486e+02\n",
      "  5.23037921e+00 2.23257599e+01 2.71450996e+02 9.58978657e+01\n",
      "  3.67832103e+00 2.53900799e+01 2.14502399e+01]\n",
      " [5.01711879e+01 4.96762139e+02 1.13416428e+02 1.84643447e+00\n",
      "  8.22797116e+00 7.32095072e-01 4.79561144e+02 2.27688046e+02\n",
      "  5.96042005e+00 2.54419234e+01 3.09339322e+02 1.09283006e+02\n",
      "  4.19173019e+00 2.89339521e+01 2.44442009e+01]\n",
      " [8.08697833e+00 8.00719461e+01 1.82813330e+01 2.97622524e-01\n",
      "  1.32624774e+00 1.18004720e-01 7.72993573e+01 3.67005122e+01\n",
      "  9.60746392e-01 4.10092509e+00 4.98616935e+01 1.76150762e+01\n",
      "  6.75655343e-01 4.66379716e+00 3.94010450e+00]\n",
      " [2.65486986e+01 2.62867770e+02 6.00156918e+01 9.77063417e-01\n",
      "  4.35393172e+00 3.87397074e-01 2.53765653e+02 1.20483918e+02\n",
      "  3.15402927e+00 1.34629054e+01 1.63690691e+02 5.78284411e+01\n",
      "  2.21810537e+00 1.53107552e+01 1.29349483e+01]\n",
      " [2.45003521e+01 2.42586389e+02 5.53852226e+01 9.01678764e-01\n",
      "  4.01800712e+00 3.57507721e-01 2.34186540e+02 1.11188065e+02\n",
      "  2.91068233e+00 1.24241842e+01 1.51061249e+02 5.33667277e+01\n",
      "  2.04696898e+00 1.41294644e+01 1.19369613e+01]\n",
      " [2.66019024e-02 2.63394559e-01 6.01359638e-02 9.79021459e-04\n",
      "  4.36265703e-03 3.88173421e-04 2.54274202e-01 1.20725369e-01\n",
      "  3.16034997e-03 1.34898852e-02 1.64018729e-01 5.79443297e-02\n",
      "  2.22255047e-03 1.53414380e-02 1.29608701e-02]\n",
      " [4.44517789e+01 4.40132309e+02 1.00487195e+02 1.63594486e+00\n",
      "  7.28999990e+00 6.48637786e-01 4.24892191e+02 2.01732092e+02\n",
      "  5.28094481e+00 2.25415981e+01 2.74075295e+02 9.68249750e+01\n",
      "  3.71388184e+00 2.56355429e+01 2.16576139e+01]\n",
      " [1.90336612e+02 1.88458807e+03 4.30272821e+02 7.00489854e+00\n",
      "  3.12148110e+01 2.77738083e+00 1.81933191e+03 8.63790015e+02\n",
      "  2.26123041e+01 9.65201283e+01 1.17355400e+03 4.14591679e+02\n",
      "  1.59023486e+01 1.09767989e+02 9.27350253e+01]\n",
      " [2.02972515e+01 2.00970049e+02 4.58837403e+01 7.46993374e-01\n",
      "  3.32870731e+00 2.96176320e-01 1.94011216e+02 9.21134566e+01\n",
      "  2.41134703e+00 1.02927824e+01 1.25146290e+02 4.42115236e+01\n",
      "  1.69580601e+00 1.17055172e+01 9.88914385e+00]\n",
      " [1.48438615e+01 1.46974164e+02 3.35558678e+01 5.46293974e-01\n",
      "  2.43436262e+00 2.16600769e-01 1.41885004e+02 6.73647559e+01\n",
      "  1.76347529e+00 7.52735592e+00 9.15224505e+01 3.23329360e+01\n",
      "  1.24018316e+00 8.56052242e+00 7.23216549e+00]\n",
      " [6.40573810e+01 6.34254099e+02 1.44807401e+02 2.35748367e+00\n",
      "  1.05052781e+01 9.34721597e-01 6.12292277e+02 2.90706689e+02\n",
      "  7.61012274e+00 3.24836435e+01 3.94957098e+02 1.39529946e+02\n",
      "  5.35190153e+00 3.69421828e+01 3.12097751e+01]\n",
      " [3.56465492e+00 3.52948710e+01 8.05821914e+00 1.31188876e-01\n",
      "  5.84596042e-01 5.20152384e-02 3.40727430e+01 1.61771994e+01\n",
      "  4.23486897e-01 1.80764461e+00 2.19785096e+01 7.76454019e+00\n",
      "  2.97821763e-01 2.05575270e+00 1.73675659e+00]\n",
      " [6.50416514e+01 6.43999698e+02 1.47032431e+02 2.39370747e+00\n",
      "  1.06666964e+01 9.49084014e-01 6.21700423e+02 2.95173527e+02\n",
      "  7.72705569e+00 3.29827692e+01 4.01025791e+02 1.41673886e+02\n",
      "  5.43413590e+00 3.75098160e+01 3.16893273e+01]\n",
      " [4.67927463e+01 4.63311030e+02 1.05779160e+02 1.72209875e+00\n",
      "  7.67391372e+00 6.82797047e-01 4.47268321e+02 2.12355924e+02\n",
      "  5.55905560e+00 2.37287080e+01 2.88508943e+02 1.01924076e+02\n",
      "  3.90946628e+00 2.69855895e+01 2.27981704e+01]\n",
      " [2.55378263e+00 2.52858777e+01 5.77305252e+00 9.39860601e-02\n",
      "  4.18815075e-01 3.72646484e-02 2.44103234e+01 1.15896354e+01\n",
      "  3.03393598e-01 1.29502898e+00 1.57457979e+01 5.56265566e+00\n",
      "  2.13364845e-01 1.47277805e+00 1.24424353e+00]\n",
      " [1.64758882e+03 1.63133420e+04 3.72452091e+03 6.06356941e+01\n",
      "  2.70201163e+02 2.40415208e+01 1.57484727e+04 7.47712573e+03\n",
      "  1.95736276e+02 8.35496038e+02 1.01585000e+04 3.58878206e+03\n",
      "  1.37653663e+02 9.50171964e+02 8.02731487e+02]\n",
      " [1.45246387e+01 1.43813429e+02 3.28342362e+01 5.34545717e-01\n",
      "  2.38201074e+00 2.11942688e-01 1.38833714e+02 6.59160515e+01\n",
      "  1.72555109e+00 7.36547730e+00 8.95542258e+01 3.16376040e+01\n",
      "  1.21351256e+00 8.37642516e+00 7.07663505e+00]\n",
      " [7.27029992e+01 7.19857331e+02 1.64351589e+02 2.67566565e+00\n",
      "  1.19231417e+01 1.06087796e+00 6.94931393e+02 3.29942434e+02\n",
      "  8.63723648e+00 3.68678561e+01 4.48263185e+02 1.58361853e+02\n",
      "  6.07423044e+00 4.19281501e+01 3.54220579e+01]\n",
      " [7.44853267e-01 7.37504766e+00 1.68380699e+00 2.74126009e-02\n",
      "  1.22154397e-01 1.08688558e-02 7.11967764e+00 3.38031033e+00\n",
      "  8.84897993e-02 3.77716785e-01 4.59252440e+00 1.62244123e+00\n",
      "  6.22314132e-02 4.29560265e-01 3.62904362e-01]\n",
      " [4.75642015e+01 4.70949472e+02 1.07523103e+02 1.75049037e+00\n",
      "  7.80043077e+00 6.94054076e-01 4.54642272e+02 2.15856960e+02\n",
      "  5.65070575e+00 2.41199147e+01 2.93265487e+02 1.03604462e+02\n",
      "  3.97392024e+00 2.74304912e+01 2.31740357e+01]\n",
      " [3.92910098e+01 3.89033764e+02 8.88208185e+01 1.44601470e+00\n",
      "  6.44364443e+00 5.73332142e-01 3.75562996e+02 1.78311370e+02\n",
      "  4.66783691e+00 1.99245604e+01 2.42255662e+02 8.55837750e+01\n",
      "  3.28270705e+00 2.26593040e+01 1.91432051e+01]\n",
      " [4.96125480e+01 4.91230853e+02 1.12153572e+02 1.82587502e+00\n",
      "  8.13635536e+00 7.23943430e-01 4.74221386e+02 2.25152813e+02\n",
      "  5.89405270e+00 2.51586358e+01 3.05894929e+02 1.08066175e+02\n",
      "  4.14505663e+00 2.86117819e+01 2.41720227e+01]\n",
      " [1.36308148e+02 1.34963372e+03 3.08136678e+02 5.01650596e+00\n",
      "  2.23542546e+01 1.98900061e+00 1.30290101e+03 6.18596791e+02\n",
      "  1.61936333e+01 6.91221716e+01 8.40431965e+02 2.96906746e+02\n",
      "  1.13883486e+01 7.86095285e+01 6.64114982e+01]\n",
      " [1.96322040e+01 1.94385185e+02 4.43803412e+01 7.22517837e-01\n",
      "  3.21964089e+00 2.86471985e-01 1.87654361e+02 8.90953223e+01\n",
      "  2.33233828e+00 9.95553525e+00 1.21045822e+02 4.27629154e+01\n",
      "  1.64024225e+00 1.13219813e+01 9.56512210e+00]\n",
      " [2.42875369e+01 2.40479233e+02 5.49041349e+01 8.93846592e-01\n",
      "  3.98310587e+00 3.54402333e-01 2.32152346e+02 1.10222262e+02\n",
      "  2.88539953e+00 1.23162652e+01 1.49749099e+02 5.29031731e+01\n",
      "  2.02918858e+00 1.40067329e+01 1.18332744e+01]\n",
      " [2.19465695e+01 2.17300511e+02 4.96121701e+01 8.07692704e-01\n",
      "  3.59919205e+00 3.20243072e-01 2.09776216e+02 9.95984294e+01\n",
      "  2.60728873e+00 1.11291553e+01 1.35315451e+02 4.78040720e+01\n",
      "  1.83360414e+00 1.26566864e+01 1.06927178e+01]\n",
      " [5.75931187e+01 5.70249221e+02 1.30194362e+02 2.11958146e+00\n",
      "  9.44515247e+00 8.40395456e-01 5.50503646e+02 2.61370424e+02\n",
      "  6.84215769e+00 2.92056014e+01 3.55100547e+02 1.25449474e+02\n",
      "  4.81182177e+00 3.32142133e+01 2.80602837e+01]\n",
      " [7.33946487e+01 7.26705589e+02 1.65915124e+02 2.70112021e+00\n",
      "  1.20365707e+01 1.07097047e+00 7.01542522e+02 3.33081293e+02\n",
      "  8.71940558e+00 3.72185932e+01 4.52527672e+02 1.59868406e+02\n",
      "  6.13201675e+00 4.23270275e+01 3.57590405e+01]\n",
      " [2.31702570e+01 2.29416661e+02 5.23784244e+01 8.52727691e-01\n",
      "  3.79987427e+00 3.38099049e-01 2.21472830e+02 1.05151796e+02\n",
      "  2.75266483e+00 1.17496900e+01 1.42860313e+02 5.04695112e+01\n",
      "  1.93584146e+00 1.33623925e+01 1.12889178e+01]\n",
      " [3.24835830e+02 3.21631096e+03 7.34320253e+02 1.19548310e+01\n",
      "  5.32724050e+01 4.73998564e+00 3.10494228e+03 1.47417748e+03\n",
      "  3.85910335e+01 1.64724988e+02 2.00283269e+03 7.07558211e+02\n",
      "  2.71395638e+01 1.87334300e+02 1.58265184e+02]\n",
      " [1.88341469e+01 1.86483348e+02 4.25762623e+01 6.93147193e-01\n",
      "  3.08876118e+00 2.74826782e-01 1.80026135e+02 8.54735613e+01\n",
      "  2.23752778e+00 9.55083870e+00 1.16125260e+02 4.10245855e+01\n",
      "  1.57356573e+00 1.08617381e+01 9.17629600e+00]\n",
      " [2.90758793e+01 2.87890253e+02 6.57286084e+01 1.07007046e+00\n",
      "  4.76838413e+00 4.24273549e-01 2.77921702e+02 1.31952828e+02\n",
      "  3.45426252e+00 1.47444445e+01 1.79272470e+02 6.33331524e+01\n",
      "  2.42924766e+00 1.67681918e+01 1.41662310e+01]\n",
      " [6.51214571e+01 6.44789881e+02 1.47212839e+02 2.39664453e+00\n",
      "  1.06797844e+01 9.50248534e-01 6.22463245e+02 2.95535703e+02\n",
      "  7.73653674e+00 3.30232389e+01 4.01517847e+02 1.41847719e+02\n",
      "  5.44080355e+00 3.75558403e+01 3.17282099e+01]\n",
      " [9.29204451e+01 9.20037196e+02 2.10054921e+02 3.41972196e+00\n",
      "  1.52387610e+01 1.35588976e+00 8.88179786e+02 4.21693714e+02\n",
      "  1.10391025e+01 4.71201689e+01 5.72917419e+02 2.02399544e+02\n",
      "  7.76336880e+00 5.35876430e+01 4.52723191e+01]\n",
      " [3.19222829e+00 3.16073471e+01 7.21631565e+00 1.17482575e-01\n",
      "  5.23518844e-01 4.65808105e-02 3.05129042e+01 1.44870443e+01\n",
      "  3.79241997e-01 1.61878622e+00 1.96822474e+01 6.95331957e+00\n",
      "  2.66706057e-01 1.84097256e+00 1.55530441e+00]]\n"
     ]
    }
   ],
   "source": [
    "print('The Degrees of Freedom are : {}'. format(dof))\n",
    "print('The P-Value of the Testing is {}: '.format(p))\n",
    "print('Expected values : \\n')\n",
    "print(expected)"
   ]
  },
  {
   "cell_type": "code",
   "execution_count": 64,
   "id": "974d2288",
   "metadata": {},
   "outputs": [
    {
     "data": {
      "text/plain": [
       "791.8799091140163"
      ]
     },
     "execution_count": 64,
     "metadata": {},
     "output_type": "execute_result"
    }
   ],
   "source": [
    "# interpreting test statistics\n",
    "\n",
    "prob = 0.95 # as aplha is considered 0.05\n",
    "critical_value = chi2.ppf(prob, dof)\n",
    "critical_value"
   ]
  },
  {
   "cell_type": "code",
   "execution_count": 65,
   "id": "ce9672b5",
   "metadata": {
    "scrolled": true
   },
   "outputs": [
    {
     "name": "stdout",
     "output_type": "stream",
     "text": [
      "Probability = 0.95, Critical Value = 791.8799091140163, Test statistic = 105247.14233091185\n",
      "\n",
      "Dependent (Reject H0 or Null Hypothesis)\n",
      "Significance : 0.050, P-Value : 0.00\n",
      "Dependent (Reject H0 or Null Hypothesis)\n"
     ]
    }
   ],
   "source": [
    "print('Probability = {}, Critical Value = {}, Test statistic = {}'.format(prob, critical_value, stat))\n",
    "print()\n",
    "if abs(stat) >= critical_value:\n",
    "    print('Dependent (Reject H0 or Null Hypothesis)')\n",
    "else:\n",
    "    print('Independent (Failed to reject Null Hypothesis)')\n",
    "\n",
    "\n",
    "# interpreting the P-Value\n",
    "alpha = 1 - prob\n",
    "print('Significance : %.3f, P-Value : %.2f'%(alpha, p))\n",
    "if p <= alpha:\n",
    "    print('Dependent (Reject H0 or Null Hypothesis)')\n",
    "else:\n",
    "    print('Independent (Failed to reject Null Hypothesis)')"
   ]
  },
  {
   "cell_type": "code",
   "execution_count": null,
   "id": "6dda12ec",
   "metadata": {},
   "outputs": [],
   "source": []
  },
  {
   "cell_type": "code",
   "execution_count": null,
   "id": "c3c862a3",
   "metadata": {},
   "outputs": [],
   "source": []
  }
 ],
 "metadata": {
  "kernelspec": {
   "display_name": "Python 3",
   "language": "python",
   "name": "python3"
  },
  "language_info": {
   "codemirror_mode": {
    "name": "ipython",
    "version": 3
   },
   "file_extension": ".py",
   "mimetype": "text/x-python",
   "name": "python",
   "nbconvert_exporter": "python",
   "pygments_lexer": "ipython3",
   "version": "3.8.8"
  }
 },
 "nbformat": 4,
 "nbformat_minor": 5
}
